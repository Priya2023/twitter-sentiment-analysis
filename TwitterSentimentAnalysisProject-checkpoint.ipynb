{
 "cells": [
  {
   "cell_type": "markdown",
   "metadata": {
    "id": "lNvlB-RCnBfs"
   },
   "source": [
    "###                                      **Project -: Twitter Sentiment Analysis**\n",
    "                              Name : Priya Nath\n",
    "                              Section : IT\n",
    "                              University RollNo. : 2015537\n",
    "                              University : Graphic Era Deemed to be University"
   ]
  },
  {
   "cell_type": "code",
   "execution_count": null,
   "metadata": {},
   "outputs": [],
   "source": []
  },
  {
   "cell_type": "markdown",
   "metadata": {
    "id": "-Pc9QOLWoV0D"
   },
   "source": [
    "### Load and Analyze Dataset"
   ]
  },
  {
   "cell_type": "code",
   "execution_count": 1,
   "metadata": {
    "id": "8clZwdECoU-z"
   },
   "outputs": [],
   "source": [
    "import numpy as np\n",
    "import pandas as pd"
   ]
  },
  {
   "cell_type": "code",
   "execution_count": 2,
   "metadata": {
    "id": "C4u8Y-_vpBg9"
   },
   "outputs": [],
   "source": [
    "#Set Column Names\n",
    "columns = ['target','textID','date','flags','username','tweet_text']\n",
    "df = pd.read_csv('training.1600000.processed.noemoticon.csv', names=columns, encoding=\"ISO-8859-1\")"
   ]
  },
  {
   "cell_type": "code",
   "execution_count": 3,
   "metadata": {
    "colab": {
     "base_uri": "https://localhost:8080/",
     "height": 345
    },
    "id": "yeAP5UH3olFf",
    "outputId": "608705f3-dc2e-4afb-8944-2424e55dc53b"
   },
   "outputs": [
    {
     "data": {
      "text/html": [
       "<div>\n",
       "<style scoped>\n",
       "    .dataframe tbody tr th:only-of-type {\n",
       "        vertical-align: middle;\n",
       "    }\n",
       "\n",
       "    .dataframe tbody tr th {\n",
       "        vertical-align: top;\n",
       "    }\n",
       "\n",
       "    .dataframe thead th {\n",
       "        text-align: right;\n",
       "    }\n",
       "</style>\n",
       "<table border=\"1\" class=\"dataframe\">\n",
       "  <thead>\n",
       "    <tr style=\"text-align: right;\">\n",
       "      <th></th>\n",
       "      <th>target</th>\n",
       "      <th>textID</th>\n",
       "      <th>date</th>\n",
       "      <th>flags</th>\n",
       "      <th>username</th>\n",
       "      <th>tweet_text</th>\n",
       "    </tr>\n",
       "  </thead>\n",
       "  <tbody>\n",
       "    <tr>\n",
       "      <th>511944</th>\n",
       "      <td>0</td>\n",
       "      <td>2190022181</td>\n",
       "      <td>Tue Jun 16 01:32:45 PDT 2009</td>\n",
       "      <td>NO_QUERY</td>\n",
       "      <td>abbiealmasco</td>\n",
       "      <td>@theblast GAH! It sucks that I'm still seeding...</td>\n",
       "    </tr>\n",
       "    <tr>\n",
       "      <th>197528</th>\n",
       "      <td>0</td>\n",
       "      <td>1971021835</td>\n",
       "      <td>Sat May 30 05:59:16 PDT 2009</td>\n",
       "      <td>NO_QUERY</td>\n",
       "      <td>hao_country</td>\n",
       "      <td>my god! my mobile phone web browser connection...</td>\n",
       "    </tr>\n",
       "    <tr>\n",
       "      <th>371677</th>\n",
       "      <td>0</td>\n",
       "      <td>2050489904</td>\n",
       "      <td>Fri Jun 05 18:45:42 PDT 2009</td>\n",
       "      <td>NO_QUERY</td>\n",
       "      <td>winterkim</td>\n",
       "      <td>im a little bit bored right now</td>\n",
       "    </tr>\n",
       "    <tr>\n",
       "      <th>965574</th>\n",
       "      <td>4</td>\n",
       "      <td>1827618859</td>\n",
       "      <td>Sun May 17 11:05:30 PDT 2009</td>\n",
       "      <td>NO_QUERY</td>\n",
       "      <td>BrogieeE</td>\n",
       "      <td>@dylansprouse heyy! will you follow me please?...</td>\n",
       "    </tr>\n",
       "    <tr>\n",
       "      <th>363314</th>\n",
       "      <td>0</td>\n",
       "      <td>2047803250</td>\n",
       "      <td>Fri Jun 05 14:12:16 PDT 2009</td>\n",
       "      <td>NO_QUERY</td>\n",
       "      <td>jyssica_bOOG</td>\n",
       "      <td>@BrandyNichol ok I feLt u up untiL the UGGS pa...</td>\n",
       "    </tr>\n",
       "    <tr>\n",
       "      <th>237455</th>\n",
       "      <td>0</td>\n",
       "      <td>1980206903</td>\n",
       "      <td>Sun May 31 06:02:37 PDT 2009</td>\n",
       "      <td>NO_QUERY</td>\n",
       "      <td>lydkwan</td>\n",
       "      <td>@c_rmen i'm also sticky but most of the time i...</td>\n",
       "    </tr>\n",
       "    <tr>\n",
       "      <th>504952</th>\n",
       "      <td>0</td>\n",
       "      <td>2188266005</td>\n",
       "      <td>Mon Jun 15 21:35:11 PDT 2009</td>\n",
       "      <td>NO_QUERY</td>\n",
       "      <td>Princess_Terra</td>\n",
       "      <td>at starbucks! white chocolate mocha coming up!...</td>\n",
       "    </tr>\n",
       "    <tr>\n",
       "      <th>1332056</th>\n",
       "      <td>4</td>\n",
       "      <td>2016107206</td>\n",
       "      <td>Wed Jun 03 06:10:48 PDT 2009</td>\n",
       "      <td>NO_QUERY</td>\n",
       "      <td>raj_at</td>\n",
       "      <td>@hawk_spirit kya cg aayi yaar???? mere toh aay...</td>\n",
       "    </tr>\n",
       "    <tr>\n",
       "      <th>334761</th>\n",
       "      <td>0</td>\n",
       "      <td>2013644636</td>\n",
       "      <td>Tue Jun 02 23:11:37 PDT 2009</td>\n",
       "      <td>NO_QUERY</td>\n",
       "      <td>ayumisides</td>\n",
       "      <td>doesn't want to miss the last day of school</td>\n",
       "    </tr>\n",
       "    <tr>\n",
       "      <th>488012</th>\n",
       "      <td>0</td>\n",
       "      <td>2182402546</td>\n",
       "      <td>Mon Jun 15 13:07:20 PDT 2009</td>\n",
       "      <td>NO_QUERY</td>\n",
       "      <td>Quix0tica</td>\n",
       "      <td>Fever + cramps + no sleep = Call in sick to work</td>\n",
       "    </tr>\n",
       "  </tbody>\n",
       "</table>\n",
       "</div>"
      ],
      "text/plain": [
       "         target      textID                          date     flags  \\\n",
       "511944        0  2190022181  Tue Jun 16 01:32:45 PDT 2009  NO_QUERY   \n",
       "197528        0  1971021835  Sat May 30 05:59:16 PDT 2009  NO_QUERY   \n",
       "371677        0  2050489904  Fri Jun 05 18:45:42 PDT 2009  NO_QUERY   \n",
       "965574        4  1827618859  Sun May 17 11:05:30 PDT 2009  NO_QUERY   \n",
       "363314        0  2047803250  Fri Jun 05 14:12:16 PDT 2009  NO_QUERY   \n",
       "237455        0  1980206903  Sun May 31 06:02:37 PDT 2009  NO_QUERY   \n",
       "504952        0  2188266005  Mon Jun 15 21:35:11 PDT 2009  NO_QUERY   \n",
       "1332056       4  2016107206  Wed Jun 03 06:10:48 PDT 2009  NO_QUERY   \n",
       "334761        0  2013644636  Tue Jun 02 23:11:37 PDT 2009  NO_QUERY   \n",
       "488012        0  2182402546  Mon Jun 15 13:07:20 PDT 2009  NO_QUERY   \n",
       "\n",
       "               username                                         tweet_text  \n",
       "511944     abbiealmasco  @theblast GAH! It sucks that I'm still seeding...  \n",
       "197528      hao_country  my god! my mobile phone web browser connection...  \n",
       "371677        winterkim                   im a little bit bored right now   \n",
       "965574         BrogieeE  @dylansprouse heyy! will you follow me please?...  \n",
       "363314     jyssica_bOOG  @BrandyNichol ok I feLt u up untiL the UGGS pa...  \n",
       "237455          lydkwan  @c_rmen i'm also sticky but most of the time i...  \n",
       "504952   Princess_Terra  at starbucks! white chocolate mocha coming up!...  \n",
       "1332056          raj_at  @hawk_spirit kya cg aayi yaar???? mere toh aay...  \n",
       "334761       ayumisides       doesn't want to miss the last day of school   \n",
       "488012        Quix0tica  Fever + cramps + no sleep = Call in sick to work   "
      ]
     },
     "execution_count": 3,
     "metadata": {},
     "output_type": "execute_result"
    }
   ],
   "source": [
    "#Use the sample method to look at some random tweets present in our dataset\n",
    "df.sample(10)"
   ]
  },
  {
   "cell_type": "code",
   "execution_count": 4,
   "metadata": {
    "colab": {
     "base_uri": "https://localhost:8080/"
    },
    "id": "xMb3ZZgbpAU7",
    "outputId": "f8b18f5c-87d4-46ad-ffd7-db6c5e415b74"
   },
   "outputs": [
    {
     "name": "stdout",
     "output_type": "stream",
     "text": [
      "Number of tweets: 1600000\n"
     ]
    }
   ],
   "source": [
    "#Check how many tweets there are in total\n",
    "print(\"Number of tweets: {}\".format(len(df)))"
   ]
  },
  {
   "cell_type": "code",
   "execution_count": 5,
   "metadata": {},
   "outputs": [
    {
     "data": {
      "text/plain": [
       "target        0\n",
       "textID        0\n",
       "date          0\n",
       "flags         0\n",
       "username      0\n",
       "tweet_text    0\n",
       "dtype: int64"
      ]
     },
     "execution_count": 5,
     "metadata": {},
     "output_type": "execute_result"
    }
   ],
   "source": [
    "#Check whether any data is missing or not\n",
    "df.isnull().sum()"
   ]
  },
  {
   "cell_type": "code",
   "execution_count": 6,
   "metadata": {},
   "outputs": [
    {
     "data": {
      "text/plain": [
       "array([0, 4], dtype=int64)"
      ]
     },
     "execution_count": 6,
     "metadata": {},
     "output_type": "execute_result"
    }
   ],
   "source": [
    "#check unique values of target column\n",
    "df['target'].unique()"
   ]
  },
  {
   "cell_type": "code",
   "execution_count": 7,
   "metadata": {},
   "outputs": [
    {
     "data": {
      "text/plain": [
       "2"
      ]
     },
     "execution_count": 7,
     "metadata": {},
     "output_type": "execute_result"
    }
   ],
   "source": [
    "df['target'].nunique()"
   ]
  },
  {
   "cell_type": "code",
   "execution_count": 8,
   "metadata": {},
   "outputs": [
    {
     "data": {
      "text/plain": [
       "1    800000\n",
       "0    800000\n",
       "Name: target, dtype: int64"
      ]
     },
     "execution_count": 8,
     "metadata": {},
     "output_type": "execute_result"
    }
   ],
   "source": [
    "df['target'] = df['target'].replace(4,1)\n",
    "df['target'].value_counts()"
   ]
  },
  {
   "cell_type": "code",
   "execution_count": 12,
   "metadata": {},
   "outputs": [
    {
     "data": {
      "text/html": [
       "<div>\n",
       "<style scoped>\n",
       "    .dataframe tbody tr th:only-of-type {\n",
       "        vertical-align: middle;\n",
       "    }\n",
       "\n",
       "    .dataframe tbody tr th {\n",
       "        vertical-align: top;\n",
       "    }\n",
       "\n",
       "    .dataframe thead th {\n",
       "        text-align: right;\n",
       "    }\n",
       "</style>\n",
       "<table border=\"1\" class=\"dataframe\">\n",
       "  <thead>\n",
       "    <tr style=\"text-align: right;\">\n",
       "      <th></th>\n",
       "      <th>target</th>\n",
       "      <th>textID</th>\n",
       "      <th>tweet_text</th>\n",
       "    </tr>\n",
       "  </thead>\n",
       "  <tbody>\n",
       "    <tr>\n",
       "      <th>958388</th>\n",
       "      <td>1</td>\n",
       "      <td>1825715744</td>\n",
       "      <td>LMBO .. what Triathelon has Lance done in the ...</td>\n",
       "    </tr>\n",
       "    <tr>\n",
       "      <th>550188</th>\n",
       "      <td>0</td>\n",
       "      <td>2202850267</td>\n",
       "      <td>@BettyL14 &amp;amp; @LexaWexa thanks for the invite</td>\n",
       "    </tr>\n",
       "    <tr>\n",
       "      <th>1298740</th>\n",
       "      <td>1</td>\n",
       "      <td>2005441739</td>\n",
       "      <td>@LeslieSanchez I like Corpus</td>\n",
       "    </tr>\n",
       "    <tr>\n",
       "      <th>192172</th>\n",
       "      <td>0</td>\n",
       "      <td>1969791755</td>\n",
       "      <td>@Hollowbabes I follow her an she just said she...</td>\n",
       "    </tr>\n",
       "    <tr>\n",
       "      <th>213761</th>\n",
       "      <td>0</td>\n",
       "      <td>1975081347</td>\n",
       "      <td>Argh! Thrown up before and after each act then...</td>\n",
       "    </tr>\n",
       "    <tr>\n",
       "      <th>602966</th>\n",
       "      <td>0</td>\n",
       "      <td>2221534453</td>\n",
       "      <td>hasnt seen jess in ageesss!  but its her broth...</td>\n",
       "    </tr>\n",
       "    <tr>\n",
       "      <th>1599379</th>\n",
       "      <td>1</td>\n",
       "      <td>2193427958</td>\n",
       "      <td>19 days! plans got changed not at my dads for ...</td>\n",
       "    </tr>\n",
       "    <tr>\n",
       "      <th>41100</th>\n",
       "      <td>0</td>\n",
       "      <td>1573964231</td>\n",
       "      <td>My head is cold, my feet are crold..I have a c...</td>\n",
       "    </tr>\n",
       "    <tr>\n",
       "      <th>1431154</th>\n",
       "      <td>1</td>\n",
       "      <td>2060033184</td>\n",
       "      <td>been listing to notrious BIG all day, I kinda ...</td>\n",
       "    </tr>\n",
       "    <tr>\n",
       "      <th>177592</th>\n",
       "      <td>0</td>\n",
       "      <td>1965719436</td>\n",
       "      <td>@gawow: probably not  I want to go home</td>\n",
       "    </tr>\n",
       "  </tbody>\n",
       "</table>\n",
       "</div>"
      ],
      "text/plain": [
       "         target      textID                                         tweet_text\n",
       "958388        1  1825715744  LMBO .. what Triathelon has Lance done in the ...\n",
       "550188        0  2202850267   @BettyL14 &amp; @LexaWexa thanks for the invite \n",
       "1298740       1  2005441739                      @LeslieSanchez I like Corpus \n",
       "192172        0  1969791755  @Hollowbabes I follow her an she just said she...\n",
       "213761        0  1975081347  Argh! Thrown up before and after each act then...\n",
       "602966        0  2221534453  hasnt seen jess in ageesss!  but its her broth...\n",
       "1599379       1  2193427958  19 days! plans got changed not at my dads for ...\n",
       "41100         0  1573964231  My head is cold, my feet are crold..I have a c...\n",
       "1431154       1  2060033184  been listing to notrious BIG all day, I kinda ...\n",
       "177592        0  1965719436            @gawow: probably not  I want to go home"
      ]
     },
     "execution_count": 12,
     "metadata": {},
     "output_type": "execute_result"
    }
   ],
   "source": [
    "df.sample(10)"
   ]
  },
  {
   "cell_type": "code",
   "execution_count": 28,
   "metadata": {},
   "outputs": [
    {
     "ename": "KeyError",
     "evalue": "\"['date' 'flags' 'username'] not found in axis\"",
     "output_type": "error",
     "traceback": [
      "\u001b[1;31m---------------------------------------------------------------------------\u001b[0m",
      "\u001b[1;31mKeyError\u001b[0m                                  Traceback (most recent call last)",
      "\u001b[1;32m<ipython-input-28-82de469ffc1a>\u001b[0m in \u001b[0;36m<module>\u001b[1;34m\u001b[0m\n\u001b[0;32m      1\u001b[0m \u001b[1;31m#Remove unuseful columns\u001b[0m\u001b[1;33m\u001b[0m\u001b[1;33m\u001b[0m\u001b[1;33m\u001b[0m\u001b[0m\n\u001b[1;32m----> 2\u001b[1;33m \u001b[0mdf\u001b[0m\u001b[1;33m.\u001b[0m\u001b[0mdrop\u001b[0m\u001b[1;33m(\u001b[0m\u001b[1;33m[\u001b[0m\u001b[1;34m'date'\u001b[0m\u001b[1;33m,\u001b[0m \u001b[1;34m'flags'\u001b[0m\u001b[1;33m,\u001b[0m \u001b[1;34m'username'\u001b[0m\u001b[1;33m,\u001b[0m\u001b[1;34m'textID'\u001b[0m\u001b[1;33m]\u001b[0m \u001b[1;33m,\u001b[0m\u001b[0maxis\u001b[0m\u001b[1;33m=\u001b[0m\u001b[1;36m1\u001b[0m\u001b[1;33m,\u001b[0m \u001b[0minplace\u001b[0m\u001b[1;33m=\u001b[0m\u001b[1;32mTrue\u001b[0m\u001b[1;33m)\u001b[0m\u001b[1;33m\u001b[0m\u001b[1;33m\u001b[0m\u001b[0m\n\u001b[0m",
      "\u001b[1;32m~\\anaconda3\\lib\\site-packages\\pandas\\core\\frame.py\u001b[0m in \u001b[0;36mdrop\u001b[1;34m(self, labels, axis, index, columns, level, inplace, errors)\u001b[0m\n\u001b[0;32m   4161\u001b[0m                 \u001b[0mweight\u001b[0m  \u001b[1;36m1.0\u001b[0m     \u001b[1;36m0.8\u001b[0m\u001b[1;33m\u001b[0m\u001b[1;33m\u001b[0m\u001b[0m\n\u001b[0;32m   4162\u001b[0m         \"\"\"\n\u001b[1;32m-> 4163\u001b[1;33m         return super().drop(\n\u001b[0m\u001b[0;32m   4164\u001b[0m             \u001b[0mlabels\u001b[0m\u001b[1;33m=\u001b[0m\u001b[0mlabels\u001b[0m\u001b[1;33m,\u001b[0m\u001b[1;33m\u001b[0m\u001b[1;33m\u001b[0m\u001b[0m\n\u001b[0;32m   4165\u001b[0m             \u001b[0maxis\u001b[0m\u001b[1;33m=\u001b[0m\u001b[0maxis\u001b[0m\u001b[1;33m,\u001b[0m\u001b[1;33m\u001b[0m\u001b[1;33m\u001b[0m\u001b[0m\n",
      "\u001b[1;32m~\\anaconda3\\lib\\site-packages\\pandas\\core\\generic.py\u001b[0m in \u001b[0;36mdrop\u001b[1;34m(self, labels, axis, index, columns, level, inplace, errors)\u001b[0m\n\u001b[0;32m   3885\u001b[0m         \u001b[1;32mfor\u001b[0m \u001b[0maxis\u001b[0m\u001b[1;33m,\u001b[0m \u001b[0mlabels\u001b[0m \u001b[1;32min\u001b[0m \u001b[0maxes\u001b[0m\u001b[1;33m.\u001b[0m\u001b[0mitems\u001b[0m\u001b[1;33m(\u001b[0m\u001b[1;33m)\u001b[0m\u001b[1;33m:\u001b[0m\u001b[1;33m\u001b[0m\u001b[1;33m\u001b[0m\u001b[0m\n\u001b[0;32m   3886\u001b[0m             \u001b[1;32mif\u001b[0m \u001b[0mlabels\u001b[0m \u001b[1;32mis\u001b[0m \u001b[1;32mnot\u001b[0m \u001b[1;32mNone\u001b[0m\u001b[1;33m:\u001b[0m\u001b[1;33m\u001b[0m\u001b[1;33m\u001b[0m\u001b[0m\n\u001b[1;32m-> 3887\u001b[1;33m                 \u001b[0mobj\u001b[0m \u001b[1;33m=\u001b[0m \u001b[0mobj\u001b[0m\u001b[1;33m.\u001b[0m\u001b[0m_drop_axis\u001b[0m\u001b[1;33m(\u001b[0m\u001b[0mlabels\u001b[0m\u001b[1;33m,\u001b[0m \u001b[0maxis\u001b[0m\u001b[1;33m,\u001b[0m \u001b[0mlevel\u001b[0m\u001b[1;33m=\u001b[0m\u001b[0mlevel\u001b[0m\u001b[1;33m,\u001b[0m \u001b[0merrors\u001b[0m\u001b[1;33m=\u001b[0m\u001b[0merrors\u001b[0m\u001b[1;33m)\u001b[0m\u001b[1;33m\u001b[0m\u001b[1;33m\u001b[0m\u001b[0m\n\u001b[0m\u001b[0;32m   3888\u001b[0m \u001b[1;33m\u001b[0m\u001b[0m\n\u001b[0;32m   3889\u001b[0m         \u001b[1;32mif\u001b[0m \u001b[0minplace\u001b[0m\u001b[1;33m:\u001b[0m\u001b[1;33m\u001b[0m\u001b[1;33m\u001b[0m\u001b[0m\n",
      "\u001b[1;32m~\\anaconda3\\lib\\site-packages\\pandas\\core\\generic.py\u001b[0m in \u001b[0;36m_drop_axis\u001b[1;34m(self, labels, axis, level, errors)\u001b[0m\n\u001b[0;32m   3919\u001b[0m                 \u001b[0mnew_axis\u001b[0m \u001b[1;33m=\u001b[0m \u001b[0maxis\u001b[0m\u001b[1;33m.\u001b[0m\u001b[0mdrop\u001b[0m\u001b[1;33m(\u001b[0m\u001b[0mlabels\u001b[0m\u001b[1;33m,\u001b[0m \u001b[0mlevel\u001b[0m\u001b[1;33m=\u001b[0m\u001b[0mlevel\u001b[0m\u001b[1;33m,\u001b[0m \u001b[0merrors\u001b[0m\u001b[1;33m=\u001b[0m\u001b[0merrors\u001b[0m\u001b[1;33m)\u001b[0m\u001b[1;33m\u001b[0m\u001b[1;33m\u001b[0m\u001b[0m\n\u001b[0;32m   3920\u001b[0m             \u001b[1;32melse\u001b[0m\u001b[1;33m:\u001b[0m\u001b[1;33m\u001b[0m\u001b[1;33m\u001b[0m\u001b[0m\n\u001b[1;32m-> 3921\u001b[1;33m                 \u001b[0mnew_axis\u001b[0m \u001b[1;33m=\u001b[0m \u001b[0maxis\u001b[0m\u001b[1;33m.\u001b[0m\u001b[0mdrop\u001b[0m\u001b[1;33m(\u001b[0m\u001b[0mlabels\u001b[0m\u001b[1;33m,\u001b[0m \u001b[0merrors\u001b[0m\u001b[1;33m=\u001b[0m\u001b[0merrors\u001b[0m\u001b[1;33m)\u001b[0m\u001b[1;33m\u001b[0m\u001b[1;33m\u001b[0m\u001b[0m\n\u001b[0m\u001b[0;32m   3922\u001b[0m             \u001b[0mresult\u001b[0m \u001b[1;33m=\u001b[0m \u001b[0mself\u001b[0m\u001b[1;33m.\u001b[0m\u001b[0mreindex\u001b[0m\u001b[1;33m(\u001b[0m\u001b[1;33m**\u001b[0m\u001b[1;33m{\u001b[0m\u001b[0maxis_name\u001b[0m\u001b[1;33m:\u001b[0m \u001b[0mnew_axis\u001b[0m\u001b[1;33m}\u001b[0m\u001b[1;33m)\u001b[0m\u001b[1;33m\u001b[0m\u001b[1;33m\u001b[0m\u001b[0m\n\u001b[0;32m   3923\u001b[0m \u001b[1;33m\u001b[0m\u001b[0m\n",
      "\u001b[1;32m~\\anaconda3\\lib\\site-packages\\pandas\\core\\indexes\\base.py\u001b[0m in \u001b[0;36mdrop\u001b[1;34m(self, labels, errors)\u001b[0m\n\u001b[0;32m   5280\u001b[0m         \u001b[1;32mif\u001b[0m \u001b[0mmask\u001b[0m\u001b[1;33m.\u001b[0m\u001b[0many\u001b[0m\u001b[1;33m(\u001b[0m\u001b[1;33m)\u001b[0m\u001b[1;33m:\u001b[0m\u001b[1;33m\u001b[0m\u001b[1;33m\u001b[0m\u001b[0m\n\u001b[0;32m   5281\u001b[0m             \u001b[1;32mif\u001b[0m \u001b[0merrors\u001b[0m \u001b[1;33m!=\u001b[0m \u001b[1;34m\"ignore\"\u001b[0m\u001b[1;33m:\u001b[0m\u001b[1;33m\u001b[0m\u001b[1;33m\u001b[0m\u001b[0m\n\u001b[1;32m-> 5282\u001b[1;33m                 \u001b[1;32mraise\u001b[0m \u001b[0mKeyError\u001b[0m\u001b[1;33m(\u001b[0m\u001b[1;34mf\"{labels[mask]} not found in axis\"\u001b[0m\u001b[1;33m)\u001b[0m\u001b[1;33m\u001b[0m\u001b[1;33m\u001b[0m\u001b[0m\n\u001b[0m\u001b[0;32m   5283\u001b[0m             \u001b[0mindexer\u001b[0m \u001b[1;33m=\u001b[0m \u001b[0mindexer\u001b[0m\u001b[1;33m[\u001b[0m\u001b[1;33m~\u001b[0m\u001b[0mmask\u001b[0m\u001b[1;33m]\u001b[0m\u001b[1;33m\u001b[0m\u001b[1;33m\u001b[0m\u001b[0m\n\u001b[0;32m   5284\u001b[0m         \u001b[1;32mreturn\u001b[0m \u001b[0mself\u001b[0m\u001b[1;33m.\u001b[0m\u001b[0mdelete\u001b[0m\u001b[1;33m(\u001b[0m\u001b[0mindexer\u001b[0m\u001b[1;33m)\u001b[0m\u001b[1;33m\u001b[0m\u001b[1;33m\u001b[0m\u001b[0m\n",
      "\u001b[1;31mKeyError\u001b[0m: \"['date' 'flags' 'username'] not found in axis\""
     ]
    }
   ],
   "source": [
    "#Remove unuseful columns\n",
    "df.drop(['date', 'flags', 'username','textID'] ,axis=1, inplace=True)"
   ]
  },
  {
   "cell_type": "code",
   "execution_count": 25,
   "metadata": {},
   "outputs": [
    {
     "data": {
      "text/html": [
       "<div>\n",
       "<style scoped>\n",
       "    .dataframe tbody tr th:only-of-type {\n",
       "        vertical-align: middle;\n",
       "    }\n",
       "\n",
       "    .dataframe tbody tr th {\n",
       "        vertical-align: top;\n",
       "    }\n",
       "\n",
       "    .dataframe thead th {\n",
       "        text-align: right;\n",
       "    }\n",
       "</style>\n",
       "<table border=\"1\" class=\"dataframe\">\n",
       "  <thead>\n",
       "    <tr style=\"text-align: right;\">\n",
       "      <th></th>\n",
       "      <th>target</th>\n",
       "      <th>textID</th>\n",
       "      <th>tweet_text</th>\n",
       "    </tr>\n",
       "  </thead>\n",
       "  <tbody>\n",
       "    <tr>\n",
       "      <th>1509968</th>\n",
       "      <td>1</td>\n",
       "      <td>2174891302</td>\n",
       "      <td>writing a new song and periodically making mys...</td>\n",
       "    </tr>\n",
       "    <tr>\n",
       "      <th>944601</th>\n",
       "      <td>1</td>\n",
       "      <td>1795651916</td>\n",
       "      <td>Hello to @PaulSegreto and his friends ~ thanks...</td>\n",
       "    </tr>\n",
       "    <tr>\n",
       "      <th>1552674</th>\n",
       "      <td>1</td>\n",
       "      <td>2184439374</td>\n",
       "      <td>My wife and I were happy for 20 years... Then ...</td>\n",
       "    </tr>\n",
       "    <tr>\n",
       "      <th>1534142</th>\n",
       "      <td>1</td>\n",
       "      <td>2178670190</td>\n",
       "      <td>@kstewartnews he's lookin' good as usual</td>\n",
       "    </tr>\n",
       "    <tr>\n",
       "      <th>1322664</th>\n",
       "      <td>1</td>\n",
       "      <td>2014822155</td>\n",
       "      <td>@nanna_hannah oh oh. maybe change it to a mild...</td>\n",
       "    </tr>\n",
       "    <tr>\n",
       "      <th>182536</th>\n",
       "      <td>0</td>\n",
       "      <td>1967169543</td>\n",
       "      <td>I am missing everyone</td>\n",
       "    </tr>\n",
       "    <tr>\n",
       "      <th>565838</th>\n",
       "      <td>0</td>\n",
       "      <td>2206646131</td>\n",
       "      <td>feeling really sad has ive got to go to work now</td>\n",
       "    </tr>\n",
       "    <tr>\n",
       "      <th>1072019</th>\n",
       "      <td>1</td>\n",
       "      <td>1966467784</td>\n",
       "      <td>Thanks @nyakototo  #LOST #WFTB #s1e8 I can't m...</td>\n",
       "    </tr>\n",
       "    <tr>\n",
       "      <th>573191</th>\n",
       "      <td>0</td>\n",
       "      <td>2209735143</td>\n",
       "      <td>Stuck at the Airport. My day in Vegas (with a ...</td>\n",
       "    </tr>\n",
       "    <tr>\n",
       "      <th>1190099</th>\n",
       "      <td>1</td>\n",
       "      <td>1983658081</td>\n",
       "      <td>watchin' the MTV movies awards tonight</td>\n",
       "    </tr>\n",
       "  </tbody>\n",
       "</table>\n",
       "</div>"
      ],
      "text/plain": [
       "         target      textID                                         tweet_text\n",
       "1509968       1  2174891302  writing a new song and periodically making mys...\n",
       "944601        1  1795651916  Hello to @PaulSegreto and his friends ~ thanks...\n",
       "1552674       1  2184439374  My wife and I were happy for 20 years... Then ...\n",
       "1534142       1  2178670190          @kstewartnews he's lookin' good as usual \n",
       "1322664       1  2014822155  @nanna_hannah oh oh. maybe change it to a mild...\n",
       "182536        0  1967169543                             I am missing everyone \n",
       "565838        0  2206646131  feeling really sad has ive got to go to work now \n",
       "1072019       1  1966467784  Thanks @nyakototo  #LOST #WFTB #s1e8 I can't m...\n",
       "573191        0  2209735143  Stuck at the Airport. My day in Vegas (with a ...\n",
       "1190099       1  1983658081            watchin' the MTV movies awards tonight "
      ]
     },
     "execution_count": 25,
     "metadata": {},
     "output_type": "execute_result"
    }
   ],
   "source": [
    "df.sample(10)"
   ]
  },
  {
   "cell_type": "markdown",
   "metadata": {
    "id": "ayt46aHDpPm7"
   },
   "source": [
    "## Data Visualization"
   ]
  },
  {
   "cell_type": "markdown",
   "metadata": {
    "id": "wIt0Okr3pnNC"
   },
   "source": [
    "### Matplotlib"
   ]
  },
  {
   "cell_type": "code",
   "execution_count": 17,
   "metadata": {
    "id": "71MTfCLrpMbn"
   },
   "outputs": [],
   "source": [
    "import matplotlib.pyplot as plt"
   ]
  },
  {
   "cell_type": "code",
   "execution_count": 18,
   "metadata": {
    "colab": {
     "base_uri": "https://localhost:8080/",
     "height": 248
    },
    "id": "S_NIThXtpUUE",
    "outputId": "728e6dd6-e61c-4424-9b21-121b2d5e3a97"
   },
   "outputs": [
    {
     "data": {
      "image/png": "[encoded data removed]",
      "text/plain": [
       "<Figure size 432x288 with 1 Axes>"
      ]
     },
     "metadata": {},
     "output_type": "display_data"
    }
   ],
   "source": [
    "#Distribution of tweets over the dataset\n",
    "sentiment_count = df[\"target\"].value_counts()\n",
    "plt.pie(sentiment_count, labels=sentiment_count.index,autopct='%1.1f%%', shadow=True, startangle=140)\n",
    "plt.show()"
   ]
  },
  {
   "cell_type": "code",
   "execution_count": 19,
   "metadata": {
    "colab": {
     "base_uri": "https://localhost:8080/"
    },
    "id": "m55411wHpZKJ",
    "outputId": "74779d28-7bc1-4c3f-e4d6-289610d03e97"
   },
   "outputs": [
    {
     "name": "stdout",
     "output_type": "stream",
     "text": [
      "Number of Positive tweets: 800000\n",
      "Number of Negative tweets: 800000\n"
     ]
    }
   ],
   "source": [
    "#Count number of positive and negative tweets\n",
    "print(\"Number of Positive tweets: {}\".format(df[df[\"target\"]==1].count()[0]))\n",
    "print(\"Number of Negative tweets: {}\".format(df[df[\"target\"]==0].count()[0]))"
   ]
  },
  {
   "cell_type": "markdown",
   "metadata": {
    "id": "0iatHxsCphLZ"
   },
   "source": [
    "### WordCloud"
   ]
  },
  {
   "cell_type": "code",
   "execution_count": 20,
   "metadata": {
    "id": "GWgQJM5GpcDy"
   },
   "outputs": [],
   "source": [
    "from wordcloud import WordCloud"
   ]
  },
  {
   "cell_type": "code",
   "execution_count": 21,
   "metadata": {},
   "outputs": [
    {
     "name": "stdout",
     "output_type": "stream",
     "text": [
      "Requirement already satisfied: wordcloud in c:\\users\\admin\\.conda\\envs\\machinelearning\\lib\\site-packages (1.8.1)Note: you may need to restart the kernel to use updated packages.\n",
      "\n",
      "Requirement already satisfied: numpy>=1.6.1 in c:\\users\\admin\\.conda\\envs\\machinelearning\\lib\\site-packages (from wordcloud) (1.20.3)\n",
      "Requirement already satisfied: pillow in c:\\users\\admin\\.conda\\envs\\machinelearning\\lib\\site-packages (from wordcloud) (8.2.0)\n",
      "Requirement already satisfied: matplotlib in c:\\users\\admin\\.conda\\envs\\machinelearning\\lib\\site-packages (from wordcloud) (3.4.2)\n",
      "Requirement already satisfied: cycler>=0.10 in c:\\users\\admin\\.conda\\envs\\machinelearning\\lib\\site-packages (from matplotlib->wordcloud) (0.10.0)\n",
      "Requirement already satisfied: python-dateutil>=2.7 in c:\\users\\admin\\.conda\\envs\\machinelearning\\lib\\site-packages (from matplotlib->wordcloud) (2.8.1)\n",
      "Requirement already satisfied: kiwisolver>=1.0.1 in c:\\users\\admin\\.conda\\envs\\machinelearning\\lib\\site-packages (from matplotlib->wordcloud) (1.3.1)\n",
      "Requirement already satisfied: pyparsing>=2.2.1 in c:\\users\\admin\\.conda\\envs\\machinelearning\\lib\\site-packages (from matplotlib->wordcloud) (2.4.7)\n",
      "Requirement already satisfied: six in c:\\users\\admin\\.conda\\envs\\machinelearning\\lib\\site-packages (from cycler>=0.10->matplotlib->wordcloud) (1.16.0)\n"
     ]
    }
   ],
   "source": [
    "pip install wordcloud"
   ]
  },
  {
   "cell_type": "code",
   "execution_count": 22,
   "metadata": {
    "colab": {
     "base_uri": "https://localhost:8080/",
     "height": 198
    },
    "id": "i-X5f3TIprXa",
    "outputId": "736ab18a-738a-4ed1-d297-80828c02d7fc"
   },
   "outputs": [
    {
     "data": {
      "image/png": "[encoded data removed]",
      "text/plain": [
       "<Figure size 432x288 with 1 Axes>"
      ]
     },
     "metadata": {
      "needs_background": "light"
     },
     "output_type": "display_data"
    }
   ],
   "source": [
    "pos_tweets = df[df[\"target\"]==1]\n",
    "txt = \" \".join(tweet.lower() for tweet in pos_tweets[\"tweet_text\"])\n",
    "wordcloud = WordCloud().generate(txt)\n",
    "plt.imshow(wordcloud, interpolation=\"bilinear\")\n",
    "plt.axis(\"off\")\n",
    "plt.show()"
   ]
  },
  {
   "cell_type": "code",
   "execution_count": 23,
   "metadata": {
    "colab": {
     "base_uri": "https://localhost:8080/",
     "height": 198
    },
    "id": "U1a-PCVJpsm9",
    "outputId": "3ee2a9cf-7c4b-482b-b2e3-a7a7ec2d47fe"
   },
   "outputs": [
    {
     "data": {
      "image/png": "[encoded data removed]",
      "text/plain": [
       "<Figure size 432x288 with 1 Axes>"
      ]
     },
     "metadata": {
      "needs_background": "light"
     },
     "output_type": "display_data"
    }
   ],
   "source": [
    "neg_tweets = df[df[\"target\"]==0]\n",
    "txt1 = \" \".join(tweet.lower() for tweet in neg_tweets[\"tweet_text\"])\n",
    "wordcloud = WordCloud().generate(txt1)\n",
    "plt.imshow(wordcloud, interpolation=\"bilinear\")\n",
    "plt.axis(\"off\")\n",
    "plt.show()"
   ]
  },
  {
   "cell_type": "markdown",
   "metadata": {
    "id": "j-ZEZW58pwQk"
   },
   "source": [
    "## Text Normalization"
   ]
  },
  {
   "cell_type": "code",
   "execution_count": 24,
   "metadata": {
    "id": "AttAQJ3Mpt61"
   },
   "outputs": [],
   "source": [
    "import re"
   ]
  },
  {
   "cell_type": "markdown",
   "metadata": {
    "id": "0A7AEYPCqZwa"
   },
   "source": [
    "### Handle RT tag"
   ]
  },
  {
   "cell_type": "code",
   "execution_count": 25,
   "metadata": {
    "id": "IT0o-yaGqegS"
   },
   "outputs": [],
   "source": [
    "def replace_retweet(tweet, default_replace=\"\"):\n",
    "    tweet = re.sub('RT\\s+', default_replace, tweet)\n",
    "    return tweet"
   ]
  },
  {
   "cell_type": "markdown",
   "metadata": {
    "id": "jdIq7n1eqjIJ"
   },
   "source": [
    "Handle @User Tag"
   ]
  },
  {
   "cell_type": "code",
   "execution_count": 26,
   "metadata": {
    "id": "CENFhRPfqnAx"
   },
   "outputs": [],
   "source": [
    "def replace_user(tweet, default_replace=\"twitteruser\"):\n",
    "    tweet = re.sub('\\B@\\w+', default_replace, tweet)\n",
    "    return tweet"
   ]
  },
  {
   "cell_type": "markdown",
   "metadata": {
    "id": "-e1TksLaqpva"
   },
   "source": [
    "### Handle Emojis"
   ]
  },
  {
   "cell_type": "code",
   "execution_count": 27,
   "metadata": {
    "id": "cuzz730SqpE5"
   },
   "outputs": [],
   "source": [
    "import emoji"
   ]
  },
  {
   "cell_type": "code",
   "execution_count": 28,
   "metadata": {},
   "outputs": [
    {
     "name": "stdout",
     "output_type": "stream",
     "text": [
      "Requirement already satisfied: emoji in c:\\users\\admin\\.conda\\envs\\machinelearning\\lib\\site-packages (1.2.0)\n",
      "Note: you may need to restart the kernel to use updated packages.\n"
     ]
    }
   ],
   "source": [
    "pip install emoji"
   ]
  },
  {
   "cell_type": "code",
   "execution_count": 29,
   "metadata": {
    "id": "qDvlWcB5qvfC"
   },
   "outputs": [],
   "source": [
    "def demojize(tweet):\n",
    "    tweet = emoji.demojize(tweet)\n",
    "    return tweet"
   ]
  },
  {
   "cell_type": "markdown",
   "metadata": {
    "id": "HUYplYNuqxKJ"
   },
   "source": [
    "### Handle URLs"
   ]
  },
  {
   "cell_type": "code",
   "execution_count": 30,
   "metadata": {
    "id": "2szHa8llq1XR"
   },
   "outputs": [],
   "source": [
    "def replace_url(tweet, default_replace=\"\"):\n",
    "    tweet = re.sub('(http|https):\\/\\/\\S+', default_replace, tweet)\n",
    "    return tweet"
   ]
  },
  {
   "cell_type": "markdown",
   "metadata": {
    "id": "NFpP3jPjq3VB"
   },
   "source": [
    "### Handle Hashtags"
   ]
  },
  {
   "cell_type": "code",
   "execution_count": 31,
   "metadata": {
    "id": "bZao4qDRq75Z"
   },
   "outputs": [],
   "source": [
    "def replace_hashtag(tweet, default_replace=\"\"):\n",
    "    tweet = re.sub('#+', default_replace, tweet)\n",
    "    return tweet"
   ]
  },
  {
   "cell_type": "markdown",
   "metadata": {
    "id": "I-LlUWs8rAZ5"
   },
   "source": [
    "### Word Features"
   ]
  },
  {
   "cell_type": "markdown",
   "metadata": {
    "id": "BCzZCACFrD1B"
   },
   "source": [
    "#### Remove Upper Capitalization"
   ]
  },
  {
   "cell_type": "code",
   "execution_count": 32,
   "metadata": {
    "id": "_Y6zs9TkrKfk"
   },
   "outputs": [],
   "source": [
    "def to_lowercase(tweet):\n",
    "    tweet = tweet.lower()\n",
    "    return tweet"
   ]
  },
  {
   "cell_type": "markdown",
   "metadata": {
    "id": "kHvESyt_rMl6"
   },
   "source": [
    "#### Remove Word Repetition"
   ]
  },
  {
   "cell_type": "code",
   "execution_count": 33,
   "metadata": {
    "id": "7VAywQ2PrTwY"
   },
   "outputs": [],
   "source": [
    "def word_repetition(tweet):\n",
    "    tweet = re.sub(r'(.)\\1+', r'\\1\\1', tweet)\n",
    "    return tweet"
   ]
  },
  {
   "cell_type": "markdown",
   "metadata": {
    "id": "W4GiTZDZrXGp"
   },
   "source": [
    "#### Remove Punctuation Repetition"
   ]
  },
  {
   "cell_type": "code",
   "execution_count": 34,
   "metadata": {
    "id": "mPMUb6IErV5E"
   },
   "outputs": [],
   "source": [
    "def punct_repetition(tweet, default_replace=\"\"):\n",
    "    tweet = re.sub(r'[\\?\\.\\!]+(?=[\\?\\.\\!])',default_replace, tweet)\n",
    "    return tweet"
   ]
  },
  {
   "cell_type": "code",
   "execution_count": 35,
   "metadata": {},
   "outputs": [
    {
     "name": "stdout",
     "output_type": "stream",
     "text": [
      "Collecting package metadata (current_repodata.json): ...working... done\n",
      "Solving environment: ...working... done\n",
      "\n",
      "# All requested packages already installed.\n",
      "\n",
      "\n",
      "Note: you may need to restart the kernel to use updated packages.\n"
     ]
    }
   ],
   "source": [
    "conda install pyahocorasick"
   ]
  },
  {
   "cell_type": "markdown",
   "metadata": {
    "id": "h-lIl7KTreKy"
   },
   "source": [
    "#### Word Contractions"
   ]
  },
  {
   "cell_type": "code",
   "execution_count": 36,
   "metadata": {
    "colab": {
     "base_uri": "https://localhost:8080/"
    },
    "id": "uumcWMPIrk0h",
    "outputId": "a82c0f4d-7411-44f0-a3be-4a1e6a84dd9b"
   },
   "outputs": [
    {
     "name": "stdout",
     "output_type": "stream",
     "text": [
      "Requirement already satisfied: contractions in c:\\users\\admin\\.conda\\envs\\machinelearning\\lib\\site-packages (0.0.52)\n",
      "Requirement already satisfied: textsearch>=0.0.21 in c:\\users\\admin\\.conda\\envs\\machinelearning\\lib\\site-packages (from contractions) (0.0.21)\n",
      "Requirement already satisfied: pyahocorasick in c:\\users\\admin\\.conda\\envs\\machinelearning\\lib\\site-packages (from textsearch>=0.0.21->contractions) (1.4.0)\n",
      "Requirement already satisfied: anyascii in c:\\users\\admin\\.conda\\envs\\machinelearning\\lib\\site-packages (from textsearch>=0.0.21->contractions) (0.2.0)\n",
      "Note: you may need to restart the kernel to use updated packages.\n"
     ]
    }
   ],
   "source": [
    "pip install contractions"
   ]
  },
  {
   "cell_type": "code",
   "execution_count": 37,
   "metadata": {
    "id": "dF93Pqr_p09O"
   },
   "outputs": [],
   "source": [
    "import contractions"
   ]
  },
  {
   "cell_type": "code",
   "execution_count": 38,
   "metadata": {
    "colab": {
     "base_uri": "https://localhost:8080/"
    },
    "id": "AXgwDC_ep6Zp",
    "outputId": "e1edf7b9-355f-4dcb-bc90-c09fab926f2b"
   },
   "outputs": [
    {
     "name": "stdout",
     "output_type": "stream",
     "text": [
      "{\"I'm\": 'I am', \"I'm'a\": 'I am about to', \"I'm'o\": 'I am going to', \"I've\": 'I have', \"I'll\": 'I will', \"I'll've\": 'I will have', \"I'd\": 'I would', \"I'd've\": 'I would have', 'Whatcha': 'What are you', \"amn't\": 'am not', \"ain't\": 'are not', \"aren't\": 'are not', \"'cause\": 'because', \"can't\": 'cannot', \"can't've\": 'cannot have', \"could've\": 'could have', \"couldn't\": 'could not', \"couldn't've\": 'could not have', \"daren't\": 'dare not', \"daresn't\": 'dare not', \"dasn't\": 'dare not', \"didn't\": 'did not', 'didn’t': 'did not', \"don't\": 'do not', 'don’t': 'do not', \"doesn't\": 'does not', \"e'er\": 'ever', \"everyone's\": 'everyone is', 'finna': 'fixing to', 'gimme': 'give me', \"gon't\": 'go not', 'gonna': 'going to', 'gotta': 'got to', \"hadn't\": 'had not', \"hadn't've\": 'had not have', \"hasn't\": 'has not', \"haven't\": 'have not', \"he've\": 'he have', \"he's\": 'he is', \"he'll\": 'he will', \"he'll've\": 'he will have', \"he'd\": 'he would', \"he'd've\": 'he would have', \"here's\": 'here is', \"how're\": 'how are', \"how'd\": 'how did', \"how'd'y\": 'how do you', \"how's\": 'how is', \"how'll\": 'how will', \"isn't\": 'is not', \"it's\": 'it is', \"'tis\": 'it is', \"'twas\": 'it was', \"it'll\": 'it will', \"it'll've\": 'it will have', \"it'd\": 'it would', \"it'd've\": 'it would have', 'kinda': 'kind of', \"let's\": 'let us', 'luv': 'love', \"ma'am\": 'madam', \"may've\": 'may have', \"mayn't\": 'may not', \"might've\": 'might have', \"mightn't\": 'might not', \"mightn't've\": 'might not have', \"must've\": 'must have', \"mustn't\": 'must not', \"mustn't've\": 'must not have', \"needn't\": 'need not', \"needn't've\": 'need not have', \"ne'er\": 'never', \"o'\": 'of', \"o'clock\": 'of the clock', \"ol'\": 'old', \"oughtn't\": 'ought not', \"oughtn't've\": 'ought not have', \"o'er\": 'over', \"shan't\": 'shall not', \"sha'n't\": 'shall not', \"shalln't\": 'shall not', \"shan't've\": 'shall not have', \"she's\": 'she is', \"she'll\": 'she will', \"she'd\": 'she would', \"she'd've\": 'she would have', \"should've\": 'should have', \"shouldn't\": 'should not', \"shouldn't've\": 'should not have', \"so've\": 'so have', \"so's\": 'so is', \"somebody's\": 'somebody is', \"someone's\": 'someone is', \"something's\": 'something is', 'sux': 'sucks', \"that're\": 'that are', \"that's\": 'that is', \"that'll\": 'that will', \"that'd\": 'that would', \"that'd've\": 'that would have', 'em': 'them', \"there're\": 'there are', \"there's\": 'there is', \"there'll\": 'there will', \"there'd\": 'there would', \"there'd've\": 'there would have', \"these're\": 'these are', \"they're\": 'they are', \"they've\": 'they have', \"they'll\": 'they will', \"they'll've\": 'they will have', \"they'd\": 'they would', \"they'd've\": 'they would have', \"this's\": 'this is', \"those're\": 'those are', \"to've\": 'to have', 'wanna': 'want to', \"wasn't\": 'was not', \"we're\": 'we are', \"we've\": 'we have', \"we'll\": 'we will', \"we'll've\": 'we will have', \"we'd\": 'we would', \"we'd've\": 'we would have', \"weren't\": 'were not', \"what're\": 'what are', \"what'd\": 'what did', \"what've\": 'what have', \"what's\": 'what is', \"what'll\": 'what will', \"what'll've\": 'what will have', \"when've\": 'when have', \"when's\": 'when is', \"where're\": 'where are', \"where'd\": 'where did', \"where've\": 'where have', \"where's\": 'where is', \"which's\": 'which is', \"who're\": 'who are', \"who've\": 'who have', \"who's\": 'who is', \"who'll\": 'who will', \"who'll've\": 'who will have', \"who'd\": 'who would', \"who'd've\": 'who would have', \"why're\": 'why are', \"why'd\": 'why did', \"why've\": 'why have', \"why's\": 'why is', \"will've\": 'will have', \"won't\": 'will not', \"won't've\": 'will not have', \"would've\": 'would have', \"wouldn't\": 'would not', \"wouldn't've\": 'would not have', \"y'all\": 'you all', \"y'all're\": 'you all are', \"y'all've\": 'you all have', \"y'all'd\": 'you all would', \"y'all'd've\": 'you all would have', \"you're\": 'you are', \"you've\": 'you have', \"you'll've\": 'you shall have', \"you'll\": 'you will', \"you'd\": 'you would', \"you'd've\": 'you would have', 'jan.': 'january', 'feb.': 'february', 'mar.': 'march', 'apr.': 'april', 'jun.': 'june', 'jul.': 'july', 'aug.': 'august', 'sep.': 'september', 'oct.': 'october', 'nov.': 'november', 'dec.': 'december', 'I’m': 'I am', 'I’m’a': 'I am about to', 'I’m’o': 'I am going to', 'I’ve': 'I have', 'I’ll': 'I will', 'I’ll’ve': 'I will have', 'I’d': 'I would', 'I’d’ve': 'I would have', 'amn’t': 'am not', 'ain’t': 'are not', 'aren’t': 'are not', '’cause': 'because', 'can’t': 'cannot', 'can’t’ve': 'cannot have', 'could’ve': 'could have', 'couldn’t': 'could not', 'couldn’t’ve': 'could not have', 'daren’t': 'dare not', 'daresn’t': 'dare not', 'dasn’t': 'dare not', 'doesn’t': 'does not', 'e’er': 'ever', 'everyone’s': 'everyone is', 'gon’t': 'go not', 'hadn’t': 'had not', 'hadn’t’ve': 'had not have', 'hasn’t': 'has not', 'haven’t': 'have not', 'he’ve': 'he have', 'he’s': 'he is', 'he’ll': 'he will', 'he’ll’ve': 'he will have', 'he’d': 'he would', 'he’d’ve': 'he would have', 'here’s': 'here is', 'how’re': 'how are', 'how’d': 'how did', 'how’d’y': 'how do you', 'how’s': 'how is', 'how’ll': 'how will', 'isn’t': 'is not', 'it’s': 'it is', '’tis': 'it is', '’twas': 'it was', 'it’ll': 'it will', 'it’ll’ve': 'it will have', 'it’d': 'it would', 'it’d’ve': 'it would have', 'let’s': 'let us', 'ma’am': 'madam', 'may’ve': 'may have', 'mayn’t': 'may not', 'might’ve': 'might have', 'mightn’t': 'might not', 'mightn’t’ve': 'might not have', 'must’ve': 'must have', 'mustn’t': 'must not', 'mustn’t’ve': 'must not have', 'needn’t': 'need not', 'needn’t’ve': 'need not have', 'ne’er': 'never', 'o’': 'of', 'o’clock': 'of the clock', 'ol’': 'old', 'oughtn’t': 'ought not', 'oughtn’t’ve': 'ought not have', 'o’er': 'over', 'shan’t': 'shall not', 'sha’n’t': 'shall not', 'shalln’t': 'shall not', 'shan’t’ve': 'shall not have', 'she’s': 'she is', 'she’ll': 'she will', 'she’d': 'she would', 'she’d’ve': 'she would have', 'should’ve': 'should have', 'shouldn’t': 'should not', 'shouldn’t’ve': 'should not have', 'so’ve': 'so have', 'so’s': 'so is', 'somebody’s': 'somebody is', 'someone’s': 'someone is', 'something’s': 'something is', 'that’re': 'that are', 'that’s': 'that is', 'that’ll': 'that will', 'that’d': 'that would', 'that’d’ve': 'that would have', 'there’re': 'there are', 'there’s': 'there is', 'there’ll': 'there will', 'there’d': 'there would', 'there’d’ve': 'there would have', 'these’re': 'these are', 'they’re': 'they are', 'they’ve': 'they have', 'they’ll': 'they will', 'they’ll’ve': 'they will have', 'they’d': 'they would', 'they’d’ve': 'they would have', 'this’s': 'this is', 'those’re': 'those are', 'to’ve': 'to have', 'wasn’t': 'was not', 'we’re': 'we are', 'we’ve': 'we have', 'we’ll': 'we will', 'we’ll’ve': 'we will have', 'we’d': 'we would', 'we’d’ve': 'we would have', 'weren’t': 'were not', 'what’re': 'what are', 'what’d': 'what did', 'what’ve': 'what have', 'what’s': 'what is', 'what’ll': 'what will', 'what’ll’ve': 'what will have', 'when’ve': 'when have', 'when’s': 'when is', 'where’re': 'where are', 'where’d': 'where did', 'where’ve': 'where have', 'where’s': 'where is', 'which’s': 'which is', 'who’re': 'who are', 'who’ve': 'who have', 'who’s': 'who is', 'who’ll': 'who will', 'who’ll’ve': 'who will have', 'who’d': 'who would', 'who’d’ve': 'who would have', 'why’re': 'why are', 'why’d': 'why did', 'why’ve': 'why have', 'why’s': 'why is', 'will’ve': 'will have', 'won’t': 'will not', 'won’t’ve': 'will not have', 'would’ve': 'would have', 'wouldn’t': 'would not', 'wouldn’t’ve': 'would not have', 'y’all': 'you all', 'y’all’re': 'you all are', 'y’all’ve': 'you all have', 'y’all’d': 'you all would', 'y’all’d’ve': 'you all would have', 'you’re': 'you are', 'you’ve': 'you have', 'you’ll’ve': 'you shall have', 'you’ll': 'you will', 'you’d': 'you would', 'you’d’ve': 'you would have'}\n"
     ]
    }
   ],
   "source": [
    "print(contractions.contractions_dict)"
   ]
  },
  {
   "cell_type": "code",
   "execution_count": 39,
   "metadata": {
    "id": "vGbjYRB6p-kJ"
   },
   "outputs": [],
   "source": [
    "def fix_contractions(tweet):\n",
    "  tweet = contractions.fix(tweet)\n",
    "  return tweet"
   ]
  },
  {
   "cell_type": "markdown",
   "metadata": {
    "id": "OpERlD0Trxaq"
   },
   "source": [
    "### Tokenization"
   ]
  },
  {
   "cell_type": "code",
   "execution_count": 40,
   "metadata": {
    "colab": {
     "base_uri": "https://localhost:8080/"
    },
    "id": "LrwnvAu_qCr3",
    "outputId": "3fc33968-b605-4c03-ea08-f28181fdf5d9"
   },
   "outputs": [
    {
     "name": "stdout",
     "output_type": "stream",
     "text": [
      "Collecting nltk\n",
      "  Downloading nltk-3.6.2-py3-none-any.whl (1.5 MB)\n",
      "Requirement already satisfied: regex in c:\\users\\admin\\.conda\\envs\\machinelearning\\lib\\site-packages (from nltk) (2021.4.4)\n",
      "Requirement already satisfied: click in c:\\users\\admin\\.conda\\envs\\machinelearning\\lib\\site-packages (from nltk) (8.0.1)\n",
      "Requirement already satisfied: joblib in c:\\users\\admin\\.conda\\envs\\machinelearning\\lib\\site-packages (from nltk) (1.0.1)\n",
      "Collecting tqdm\n",
      "  Downloading tqdm-4.61.1-py2.py3-none-any.whl (75 kB)\n",
      "Requirement already satisfied: colorama in c:\\users\\admin\\.conda\\envs\\machinelearning\\lib\\site-packages (from click->nltk) (0.4.4)\n",
      "Installing collected packages: tqdm, nltk\n",
      "Successfully installed nltk-3.6.2 tqdm-4.61.1\n",
      "Note: you may need to restart the kernel to use updated packages.\n"
     ]
    }
   ],
   "source": [
    "pip install nltk"
   ]
  },
  {
   "cell_type": "code",
   "execution_count": 58,
   "metadata": {
    "id": "5ux83LheqG59"
   },
   "outputs": [],
   "source": [
    "import nltk\n",
    "from nltk.tokenize import word_tokenize"
   ]
  },
  {
   "cell_type": "code",
   "execution_count": 59,
   "metadata": {
    "colab": {
     "base_uri": "https://localhost:8080/"
    },
    "id": "C6eY2ulkqJJV",
    "outputId": "220ec01f-f638-4504-dbf5-1a44f1f82afa"
   },
   "outputs": [
    {
     "name": "stderr",
     "output_type": "stream",
     "text": [
      "[nltk_data] Downloading package punkt to\n",
      "[nltk_data]     C:\\Users\\admin\\AppData\\Roaming\\nltk_data...\n",
      "[nltk_data]   Package punkt is already up-to-date!\n"
     ]
    },
    {
     "data": {
      "text/plain": [
       "True"
      ]
     },
     "execution_count": 59,
     "metadata": {},
     "output_type": "execute_result"
    }
   ],
   "source": [
    "nltk.download('punkt')"
   ]
  },
  {
   "cell_type": "code",
   "execution_count": 60,
   "metadata": {
    "id": "xlt6Wj4xqMDO"
   },
   "outputs": [],
   "source": [
    "import string"
   ]
  },
  {
   "cell_type": "code",
   "execution_count": 61,
   "metadata": {
    "colab": {
     "base_uri": "https://localhost:8080/"
    },
    "id": "lZGWvsvAqNnw",
    "outputId": "83fc9937-8e60-4a55-834d-2f4846a0722e"
   },
   "outputs": [
    {
     "name": "stdout",
     "output_type": "stream",
     "text": [
      "!\"#$%&'()*+,-./:;<=>?@[\\]^_`{|}~\n"
     ]
    }
   ],
   "source": [
    "print(string.punctuation)"
   ]
  },
  {
   "cell_type": "code",
   "execution_count": 62,
   "metadata": {
    "id": "NVkhMeVxsFqg"
   },
   "outputs": [],
   "source": [
    "from nltk.corpus import stopwords"
   ]
  },
  {
   "cell_type": "code",
   "execution_count": 63,
   "metadata": {
    "colab": {
     "base_uri": "https://localhost:8080/"
    },
    "id": "1jblQ4OEr_Mp",
    "outputId": "f2279590-5cc9-4625-9df2-ae7b13872642"
   },
   "outputs": [
    {
     "name": "stderr",
     "output_type": "stream",
     "text": [
      "[nltk_data] Downloading package stopwords to\n",
      "[nltk_data]     C:\\Users\\admin\\AppData\\Roaming\\nltk_data...\n",
      "[nltk_data]   Package stopwords is already up-to-date!\n"
     ]
    },
    {
     "data": {
      "text/plain": [
       "True"
      ]
     },
     "execution_count": 63,
     "metadata": {},
     "output_type": "execute_result"
    }
   ],
   "source": [
    "nltk.download('stopwords')"
   ]
  },
  {
   "cell_type": "code",
   "execution_count": 64,
   "metadata": {
    "colab": {
     "base_uri": "https://localhost:8080/"
    },
    "id": "UCUTElLzsD6H",
    "outputId": "46671d4b-b678-41fb-deec-e54abf41a08a"
   },
   "outputs": [
    {
     "name": "stdout",
     "output_type": "stream",
     "text": [
      "{'when', 'will', \"you're\", 'it', 'against', \"she's\", \"haven't\", \"won't\", 'm', 'what', 'we', 'and', 'some', \"that'll\", 'off', \"you'd\", 'mightn', 'theirs', 'been', 'both', 'which', \"shouldn't\", 'them', \"it's\", 'you', 'how', \"wouldn't\", 'was', 'whom', 'yourself', 'have', 'him', 'the', 'should', 'd', 'me', 'is', 'does', 'between', 'yourselves', 'again', 'here', 's', 'while', 'until', 'other', 'her', 'isn', \"mustn't\", 'above', 'ain', 'so', 'more', 've', 'its', 'only', 'own', 'themselves', 'same', 'no', 'didn', 'himself', 'ours', 'few', 'a', \"mightn't\", 'too', 'hadn', 'my', 'your', 'any', 'shan', 'won', 'they', 'having', \"should've\", 'each', 'are', 'these', \"you've\", \"doesn't\", 'with', 'had', 'haven', 'needn', 'll', \"needn't\", \"isn't\", 'because', 'further', 'such', \"you'll\", 'weren', 'before', 'nor', 'those', 'our', 'through', 'but', 'their', \"weren't\", 'during', 'out', 'as', 'in', 'after', 'over', 'ourselves', 'doing', \"couldn't\", 'why', 'i', 'all', 'most', 'just', 're', 'y', 'to', \"shan't\", 'then', 'did', 't', 'this', 'once', 'am', 'that', 'itself', 'of', 'by', \"hadn't\", 'on', 'if', 'down', 'from', 'at', 'where', 'into', 'aren', 'very', \"hasn't\", 'do', 'there', 'below', 'were', 'don', \"don't\", 'can', 'up', 'shouldn', 'who', 'under', 'now', 'hasn', 'o', 'yours', 'or', 'being', 'an', 'about', 'wouldn', 'hers', 'couldn', 'has', 'ma', 'herself', 'be', 'not', 'for', \"aren't\", 'he', 'doesn', 'she', \"wasn't\", 'wasn', 'mustn', 'than', 'myself', 'his', \"didn't\"}\n"
     ]
    }
   ],
   "source": [
    "# Create set of english stopwords\n",
    "stop_words = set(stopwords.words('english'))\n",
    "print(stop_words)"
   ]
  },
  {
   "cell_type": "code",
   "execution_count": 65,
   "metadata": {
    "colab": {
     "base_uri": "https://localhost:8080/"
    },
    "id": "HKaYfOPlsKQs",
    "outputId": "18e0ba10-eedf-46eb-c870-cc945fad0b59"
   },
   "outputs": [
    {
     "name": "stdout",
     "output_type": "stream",
     "text": [
      "{'when', 'will', \"you're\", 'it', 'against', \"she's\", \"haven't\", \"won't\", 'm', 'what', 'we', 'and', 'some', \"that'll\", 'off', \"you'd\", 'mightn', 'theirs', 'been', 'both', 'which', \"shouldn't\", 'them', \"it's\", 'you', 'how', \"wouldn't\", 'was', 'whom', 'yourself', 'have', 'him', 'the', 'should', 'd', 'me', 'is', 'does', 'between', 'yourselves', 'again', 'here', 's', 'while', 'until', 'other', 'her', 'isn', \"mustn't\", 'above', 'ain', 'so', 'more', 've', 'its', 'only', 'own', 'themselves', 'same', 'no', 'didn', 'himself', 'ours', 'few', 'a', \"mightn't\", 'too', 'hadn', 'my', 'your', 'any', 'shan', 'won', 'they', 'having', \"should've\", 'each', 'are', 'these', \"you've\", \"doesn't\", 'with', 'had', 'haven', 'needn', 'll', \"needn't\", \"isn't\", 'because', 'further', 'such', \"you'll\", 'weren', 'before', 'nor', 'those', 'our', 'through', 'but', 'their', \"weren't\", 'during', 'out', 'as', 'in', 'after', 'over', 'ourselves', 'doing', \"couldn't\", 'why', 'i', 'all', 'most', 'just', 're', 'y', 'to', \"shan't\", 'then', 'did', 't', 'this', 'once', 'am', 'that', 'itself', 'of', 'by', \"hadn't\", 'on', 'if', 'down', 'from', 'at', 'where', 'into', 'aren', 'very', \"hasn't\", 'do', 'there', 'below', 'were', 'don', \"don't\", 'can', 'up', 'shouldn', 'who', 'under', 'now', 'hasn', 'o', 'yours', 'or', 'being', 'an', 'about', 'wouldn', 'hers', 'couldn', 'has', 'ma', 'herself', 'be', 'for', \"aren't\", 'he', 'doesn', 'she', \"wasn't\", 'wasn', 'mustn', 'than', 'myself', 'his', \"didn't\"}\n"
     ]
    }
   ],
   "source": [
    "# Remove some stopwords from the set\n",
    "stop_words.discard('not')\n",
    "print(stop_words)"
   ]
  },
  {
   "cell_type": "code",
   "execution_count": 66,
   "metadata": {
    "id": "tykuAZJxsMhJ"
   },
   "outputs": [],
   "source": [
    "# Create a custom_tokenize function\n",
    "def custom_tokenize(tweet, \n",
    "                        keep_punct = False,\n",
    "                        keep_alnum = False,\n",
    "                        keep_stop = False):\n",
    "  token_list = word_tokenize(tweet)\n",
    "  if not keep_punct:\n",
    "    token_list = [token for token in token_list \n",
    "                  if token not in string.punctuation]\n",
    "\n",
    "  if not keep_alnum:\n",
    "    token_list = [token for token in token_list if token.isalpha()]\n",
    "\n",
    "  if not keep_stop:\n",
    "    stop_words = set(stopwords.words('english'))\n",
    "    stop_words.discard('not')\n",
    "    token_list = [token for token in token_list if not token in stop_words]\n",
    "\n",
    "  return token_list"
   ]
  },
  {
   "cell_type": "markdown",
   "metadata": {
    "id": "AuBzJ_1msRuy"
   },
   "source": [
    "### Stemming"
   ]
  },
  {
   "cell_type": "code",
   "execution_count": 67,
   "metadata": {
    "id": "GD_N00YasPrE"
   },
   "outputs": [],
   "source": [
    "from nltk.stem.snowball import SnowballStemmer"
   ]
  },
  {
   "cell_type": "code",
   "execution_count": 68,
   "metadata": {
    "id": "Uem-FOVssVKy"
   },
   "outputs": [],
   "source": [
    "# Create a stem_tokens function that takes the list of tokens as input and returns a list of stemmed tokens\n",
    "def stem_tokens(tokens, stemmer):\n",
    "  token_list = []\n",
    "  for token in tokens:\n",
    "    token_list.append(stemmer.stem(token))\n",
    "  return token_list"
   ]
  },
  {
   "cell_type": "markdown",
   "metadata": {
    "id": "D9nRij3Ts3op"
   },
   "source": [
    "### Putting all together"
   ]
  },
  {
   "cell_type": "code",
   "execution_count": 69,
   "metadata": {
    "id": "cs6b4MKosvjf"
   },
   "outputs": [],
   "source": [
    "def process_tweet(tweet, verbose=False):\n",
    "  if verbose: print(\"Initial tweet: {}\".format(tweet))\n",
    "\n",
    "  ## Twitter Features\n",
    "  tweet = replace_retweet(tweet) # replace retweet\n",
    "  tweet = replace_user(tweet, \"\") # replace user tag\n",
    "  tweet = replace_url(tweet) # replace url\n",
    "  tweet = replace_hashtag(tweet) # replace hashtag\n",
    "  if verbose: print(\"Post Twitter processing tweet: {}\".format(tweet))\n",
    "\n",
    "  ## Word Features\n",
    "  tweet = to_lowercase(tweet) # lower case\n",
    "  tweet = fix_contractions(tweet) # replace contractions\n",
    "  tweet = punct_repetition(tweet) # replace punctuation repetition\n",
    "  tweet = word_repetition(tweet) # replace word repetition\n",
    "  tweet = demojize(tweet) # replace emojis\n",
    "  if verbose: print(\"Post Word processing tweet: {}\".format(tweet))\n",
    "\n",
    "  ## Tokenization & Stemming\n",
    "  tokens = custom_tokenize(tweet, keep_alnum=False, keep_stop=False) # tokenize\n",
    "  stemmer = SnowballStemmer(\"english\") # define stemmer\n",
    "  stem = stem_tokens(tokens, stemmer) # stem tokens\n",
    "\n",
    "  return stem"
   ]
  },
  {
   "cell_type": "markdown",
   "metadata": {
    "id": "RMvOPo79tocQ"
   },
   "source": [
    "## Text Representation"
   ]
  },
  {
   "cell_type": "code",
   "execution_count": 70,
   "metadata": {
    "colab": {
     "base_uri": "https://localhost:8080/",
     "height": 339
    },
    "id": "DiOmy45xtJVM",
    "outputId": "925b0e4b-4980-4e07-de2b-cb357652db71"
   },
   "outputs": [
    {
     "name": "stdout",
     "output_type": "stream",
     "text": [
      "Requirement already satisfied: scikit-learn in c:\\users\\admin\\.conda\\envs\\machinelearning\\lib\\site-packages (0.24.2)\n",
      "Requirement already satisfied: numpy>=1.13.3 in c:\\users\\admin\\.conda\\envs\\machinelearning\\lib\\site-packages (from scikit-learn) (1.20.3)\n",
      "Requirement already satisfied: scipy>=0.19.1 in c:\\users\\admin\\.conda\\envs\\machinelearning\\lib\\site-packages (from scikit-learn) (1.6.3)\n",
      "Requirement already satisfied: joblib>=0.11 in c:\\users\\admin\\.conda\\envs\\machinelearning\\lib\\site-packages (from scikit-learn) (1.0.1)\n",
      "Requirement already satisfied: threadpoolctl>=2.0.0 in c:\\users\\admin\\.conda\\envs\\machinelearning\\lib\\site-packages (from scikit-learn) (2.1.0)\n",
      "Note: you may need to restart the kernel to use updated packages.\n"
     ]
    }
   ],
   "source": [
    "pip install -U scikit-learn"
   ]
  },
  {
   "cell_type": "markdown",
   "metadata": {
    "id": "8FhxnFm9ui4v"
   },
   "source": [
    "#### Processing Tweets "
   ]
  },
  {
   "cell_type": "code",
   "execution_count": 71,
   "metadata": {
    "id": "x62Yo4mguhkJ"
   },
   "outputs": [],
   "source": [
    "# Convert sentiment to 1  for \"positive\" and 0 for \"negative\" sentiment\n",
    "df[\"tokens\"] = df[\"tweet_text\"].apply(process_tweet)"
   ]
  },
  {
   "cell_type": "code",
   "execution_count": 72,
   "metadata": {
    "colab": {
     "base_uri": "https://localhost:8080/",
     "height": 345
    },
    "id": "1EEaJ5D-u2dI",
    "outputId": "668732b2-90db-485a-9121-3aa706c5be99"
   },
   "outputs": [
    {
     "data": {
      "text/html": [
       "<div>\n",
       "<style scoped>\n",
       "    .dataframe tbody tr th:only-of-type {\n",
       "        vertical-align: middle;\n",
       "    }\n",
       "\n",
       "    .dataframe tbody tr th {\n",
       "        vertical-align: top;\n",
       "    }\n",
       "\n",
       "    .dataframe thead th {\n",
       "        text-align: right;\n",
       "    }\n",
       "</style>\n",
       "<table border=\"1\" class=\"dataframe\">\n",
       "  <thead>\n",
       "    <tr style=\"text-align: right;\">\n",
       "      <th></th>\n",
       "      <th>target</th>\n",
       "      <th>textID</th>\n",
       "      <th>tweet_text</th>\n",
       "      <th>tokens</th>\n",
       "    </tr>\n",
       "  </thead>\n",
       "  <tbody>\n",
       "    <tr>\n",
       "      <th>0</th>\n",
       "      <td>0</td>\n",
       "      <td>1467810369</td>\n",
       "      <td>@switchfoot http://twitpic.com/2y1zl - Awww, t...</td>\n",
       "      <td>[aww, bummer, shoulda, got, david, carr, third...</td>\n",
       "    </tr>\n",
       "    <tr>\n",
       "      <th>1</th>\n",
       "      <td>0</td>\n",
       "      <td>1467810672</td>\n",
       "      <td>is upset that he can't update his Facebook by ...</td>\n",
       "      <td>[upset, not, updat, facebook, text, might, cri...</td>\n",
       "    </tr>\n",
       "    <tr>\n",
       "      <th>2</th>\n",
       "      <td>0</td>\n",
       "      <td>1467810917</td>\n",
       "      <td>@Kenichan I dived many times for the ball. Man...</td>\n",
       "      <td>[dive, mani, time, ball, manag, save, rest, go...</td>\n",
       "    </tr>\n",
       "    <tr>\n",
       "      <th>3</th>\n",
       "      <td>0</td>\n",
       "      <td>1467811184</td>\n",
       "      <td>my whole body feels itchy and like its on fire</td>\n",
       "      <td>[whole, bodi, feel, itchi, like, fire]</td>\n",
       "    </tr>\n",
       "    <tr>\n",
       "      <th>4</th>\n",
       "      <td>0</td>\n",
       "      <td>1467811193</td>\n",
       "      <td>@nationwideclass no, it's not behaving at all....</td>\n",
       "      <td>[not, behav, i, mad, not, see]</td>\n",
       "    </tr>\n",
       "    <tr>\n",
       "      <th>5</th>\n",
       "      <td>0</td>\n",
       "      <td>1467811372</td>\n",
       "      <td>@Kwesidei not the whole crew</td>\n",
       "      <td>[not, whole, crew]</td>\n",
       "    </tr>\n",
       "    <tr>\n",
       "      <th>6</th>\n",
       "      <td>0</td>\n",
       "      <td>1467811592</td>\n",
       "      <td>Need a hug</td>\n",
       "      <td>[need, hug]</td>\n",
       "    </tr>\n",
       "    <tr>\n",
       "      <th>7</th>\n",
       "      <td>0</td>\n",
       "      <td>1467811594</td>\n",
       "      <td>@LOLTrish hey  long time no see! Yes.. Rains a...</td>\n",
       "      <td>[hey, long, time, see, yes, rain, bit, bit, lo...</td>\n",
       "    </tr>\n",
       "    <tr>\n",
       "      <th>8</th>\n",
       "      <td>0</td>\n",
       "      <td>1467811795</td>\n",
       "      <td>@Tatiana_K nope they didn't have it</td>\n",
       "      <td>[nope, not]</td>\n",
       "    </tr>\n",
       "    <tr>\n",
       "      <th>9</th>\n",
       "      <td>0</td>\n",
       "      <td>1467812025</td>\n",
       "      <td>@twittera que me muera ?</td>\n",
       "      <td>[que, muera]</td>\n",
       "    </tr>\n",
       "  </tbody>\n",
       "</table>\n",
       "</div>"
      ],
      "text/plain": [
       "   target      textID                                         tweet_text  \\\n",
       "0       0  1467810369  @switchfoot http://twitpic.com/2y1zl - Awww, t...   \n",
       "1       0  1467810672  is upset that he can't update his Facebook by ...   \n",
       "2       0  1467810917  @Kenichan I dived many times for the ball. Man...   \n",
       "3       0  1467811184    my whole body feels itchy and like its on fire    \n",
       "4       0  1467811193  @nationwideclass no, it's not behaving at all....   \n",
       "5       0  1467811372                      @Kwesidei not the whole crew    \n",
       "6       0  1467811592                                        Need a hug    \n",
       "7       0  1467811594  @LOLTrish hey  long time no see! Yes.. Rains a...   \n",
       "8       0  1467811795               @Tatiana_K nope they didn't have it    \n",
       "9       0  1467812025                          @twittera que me muera ?    \n",
       "\n",
       "                                              tokens  \n",
       "0  [aww, bummer, shoulda, got, david, carr, third...  \n",
       "1  [upset, not, updat, facebook, text, might, cri...  \n",
       "2  [dive, mani, time, ball, manag, save, rest, go...  \n",
       "3             [whole, bodi, feel, itchi, like, fire]  \n",
       "4                     [not, behav, i, mad, not, see]  \n",
       "5                                 [not, whole, crew]  \n",
       "6                                        [need, hug]  \n",
       "7  [hey, long, time, see, yes, rain, bit, bit, lo...  \n",
       "8                                        [nope, not]  \n",
       "9                                       [que, muera]  "
      ]
     },
     "execution_count": 72,
     "metadata": {},
     "output_type": "execute_result"
    }
   ],
   "source": [
    "df.head(10)"
   ]
  },
  {
   "cell_type": "code",
   "execution_count": 73,
   "metadata": {
    "id": "egAQrRXhu2Fn"
   },
   "outputs": [],
   "source": [
    "# Convert Dataframe to two list: One for tweet tokens(X) and one for the tweet sentiment (y)\n",
    "X = df[\"tokens\"].tolist()\n",
    "y = df[\"target\"].tolist()"
   ]
  },
  {
   "cell_type": "code",
   "execution_count": 74,
   "metadata": {
    "colab": {
     "base_uri": "https://localhost:8080/"
    },
    "id": "wZiP6y51u9eV",
    "outputId": "8261689b-c5a2-4e22-b456-6eb028a8cef7"
   },
   "outputs": [
    {
     "name": "stderr",
     "output_type": "stream",
     "text": [
      "IOPub data rate exceeded.\n",
      "The notebook server will temporarily stop sending output\n",
      "to the client in order to avoid crashing it.\n",
      "To change this limit, set the config variable\n",
      "`--NotebookApp.iopub_data_rate_limit`.\n",
      "\n",
      "Current values:\n",
      "NotebookApp.iopub_data_rate_limit=1000000.0 (bytes/sec)\n",
      "NotebookApp.rate_limit_window=3.0 (secs)\n",
      "\n"
     ]
    }
   ],
   "source": [
    "print(X)\n",
    "print(y)"
   ]
  },
  {
   "cell_type": "markdown",
   "metadata": {
    "id": "ELmiRarRvPS4"
   },
   "source": [
    "#### Positive/Negative Frequency \n",
    "\n"
   ]
  },
  {
   "cell_type": "code",
   "execution_count": 83,
   "metadata": {
    "id": "gKmNBhaWu_Ww"
   },
   "outputs": [],
   "source": [
    "def build_freqs(tweet_list, sentiment_list):\n",
    "  freqs = {}\n",
    "  for tweet, sentiment in zip(tweet_list, sentiment_list):\n",
    "    for word in tweet:\n",
    "      pair = (word, sentiment)\n",
    "      if pair in freqs:\n",
    "        freqs[pair] += 1\n",
    "      else:\n",
    "        freqs[pair] = 1\n",
    "  return freqs"
   ]
  },
  {
   "cell_type": "code",
   "execution_count": 84,
   "metadata": {
    "id": "_6uChvjovYQO"
   },
   "outputs": [],
   "source": [
    "#Create a tweet_to_freqs function used to convert tweets to a 2-d array by using the frequency dictionnary\n",
    "def tweet_to_freq(tweet, freqs):\n",
    "  x = np.zeros((2,))\n",
    "  for word in tweet:\n",
    "    if (word, 1) in freqs:\n",
    "      x[0] += freqs[(word, 1)]\n",
    "    if (word, 0) in freqs:\n",
    "      x[1] += freqs[(word, 0)]\n",
    "  return x"
   ]
  },
  {
   "cell_type": "code",
   "execution_count": 85,
   "metadata": {
    "id": "liF82S8EvbSz"
   },
   "outputs": [],
   "source": [
    "def word_features(word, freqs):\n",
    "  x = np.zeros((2,))\n",
    "  if (word, 1) in freqs:\n",
    "    x[0] = np.log(freqs[(word, 1)] + 1)\n",
    "  if (word, 0) in freqs:\n",
    "    x[1] = np.log(freqs[(word, 0)] + 1)\n",
    "  return x"
   ]
  },
  {
   "cell_type": "markdown",
   "metadata": {
    "id": "-G33C3bLvtxY"
   },
   "source": [
    "#### Bag of Words"
   ]
  },
  {
   "cell_type": "code",
   "execution_count": 86,
   "metadata": {
    "id": "JypFWFXBveos"
   },
   "outputs": [],
   "source": [
    "from sklearn.feature_extraction.text import CountVectorizer"
   ]
  },
  {
   "cell_type": "code",
   "execution_count": 87,
   "metadata": {
    "id": "k6ph2nxTvyiY"
   },
   "outputs": [],
   "source": [
    "# Create fit_cv function used to build the Bag of Words vectorizer with the corpus\n",
    "def fit_cv(tweet_corpus):\n",
    "  cv_vect = CountVectorizer(tokenizer= lambda x: x, preprocessor=lambda x: x)\n",
    "  cv_vect.fit(tweet_corpus)\n",
    "  return cv_vect"
   ]
  },
  {
   "cell_type": "markdown",
   "metadata": {
    "id": "pQejAH1ev5vu"
   },
   "source": [
    "#### TF-IDF (Term Frequency - Inverse Document Frequency)"
   ]
  },
  {
   "cell_type": "code",
   "execution_count": 88,
   "metadata": {
    "id": "hhUu6xpmvzyR"
   },
   "outputs": [],
   "source": [
    "from sklearn.feature_extraction.text import TfidfVectorizer"
   ]
  },
  {
   "cell_type": "code",
   "execution_count": 89,
   "metadata": {
    "id": "yOCTSW9QwFGB"
   },
   "outputs": [],
   "source": [
    "# Create a fit_tfidf function to build the TF-IDF vectorizer with the corpus\n",
    "def fit_tfidf(tweet_corpus):\n",
    "  tf_vect = TfidfVectorizer(preprocessor=lambda x: x, tokenizer=lambda x:x)\n",
    "  tf_vect.fit(tweet_corpus)\n",
    "  return tf_vect"
   ]
  },
  {
   "cell_type": "code",
   "execution_count": 91,
   "metadata": {},
   "outputs": [
    {
     "name": "stdout",
     "output_type": "stream",
     "text": [
      "Collecting seaborn\n",
      "  Downloading seaborn-0.11.1-py3-none-any.whl (285 kB)\n",
      "Requirement already satisfied: numpy>=1.15 in c:\\users\\admin\\.conda\\envs\\machinelearning\\lib\\site-packages (from seaborn) (1.20.3)\n",
      "Requirement already satisfied: scipy>=1.0 in c:\\users\\admin\\.conda\\envs\\machinelearning\\lib\\site-packages (from seaborn) (1.6.3)\n",
      "Note: you may need to restart the kernel to use updated packages.\n",
      "Requirement already satisfied: pandas>=0.23 in c:\\users\\admin\\.conda\\envs\\machinelearning\\lib\\site-packages (from seaborn) (1.2.4)\n",
      "Requirement already satisfied: matplotlib>=2.2 in c:\\users\\admin\\.conda\\envs\\machinelearning\\lib\\site-packages (from seaborn) (3.4.2)\n",
      "Requirement already satisfied: pyparsing>=2.2.1 in c:\\users\\admin\\.conda\\envs\\machinelearning\\lib\\site-packages (from matplotlib>=2.2->seaborn) (2.4.7)\n",
      "Requirement already satisfied: kiwisolver>=1.0.1 in c:\\users\\admin\\.conda\\envs\\machinelearning\\lib\\site-packages (from matplotlib>=2.2->seaborn) (1.3.1)\n",
      "Requirement already satisfied: cycler>=0.10 in c:\\users\\admin\\.conda\\envs\\machinelearning\\lib\\site-packages (from matplotlib>=2.2->seaborn) (0.10.0)\n",
      "Requirement already satisfied: pillow>=6.2.0 in c:\\users\\admin\\.conda\\envs\\machinelearning\\lib\\site-packages (from matplotlib>=2.2->seaborn) (8.2.0)\n",
      "Requirement already satisfied: python-dateutil>=2.7 in c:\\users\\admin\\.conda\\envs\\machinelearning\\lib\\site-packages (from matplotlib>=2.2->seaborn) (2.8.1)\n",
      "Requirement already satisfied: six in c:\\users\\admin\\.conda\\envs\\machinelearning\\lib\\site-packages (from cycler>=0.10->matplotlib>=2.2->seaborn) (1.16.0)\n",
      "Requirement already satisfied: pytz>=2017.3 in c:\\users\\admin\\.conda\\envs\\machinelearning\\lib\\site-packages (from pandas>=0.23->seaborn) (2021.1)\n",
      "Installing collected packages: seaborn\n",
      "Successfully installed seaborn-0.11.1\n"
     ]
    }
   ],
   "source": [
    "pip install seaborn"
   ]
  },
  {
   "cell_type": "markdown",
   "metadata": {
    "id": "EXjYvZG8wJkW"
   },
   "source": [
    "##### Helper Function"
   ]
  },
  {
   "cell_type": "code",
   "execution_count": 92,
   "metadata": {
    "id": "_hqOFk1HwGZn"
   },
   "outputs": [],
   "source": [
    "import seaborn as sn\n",
    "\n",
    "def plot_confusion(cm):\n",
    "  plt.figure(figsize = (5,5))\n",
    "  sn.heatmap(cm, annot=True, cmap=\"Blues\", fmt='.0f')\n",
    "  plt.xlabel(\"Prediction\")\n",
    "  plt.ylabel(\"True value\")\n",
    "  plt.title(\"Confusion Matrix\")\n",
    "  return sn"
   ]
  },
  {
   "cell_type": "markdown",
   "metadata": {
    "id": "6t02uzlxwQYB"
   },
   "source": [
    "## Train-Test Split"
   ]
  },
  {
   "cell_type": "code",
   "execution_count": 93,
   "metadata": {
    "colab": {
     "base_uri": "https://localhost:8080/"
    },
    "id": "B97DpjKRwTQw",
    "outputId": "e5be1cdb-a5bb-42cc-9e3b-73a43fd7d72d"
   },
   "outputs": [
    {
     "name": "stderr",
     "output_type": "stream",
     "text": [
      "IOPub data rate exceeded.\n",
      "The notebook server will temporarily stop sending output\n",
      "to the client in order to avoid crashing it.\n",
      "To change this limit, set the config variable\n",
      "`--NotebookApp.iopub_data_rate_limit`.\n",
      "\n",
      "Current values:\n",
      "NotebookApp.iopub_data_rate_limit=1000000.0 (bytes/sec)\n",
      "NotebookApp.rate_limit_window=3.0 (secs)\n",
      "\n"
     ]
    }
   ],
   "source": [
    "print(X)\n",
    "print(y)"
   ]
  },
  {
   "cell_type": "code",
   "execution_count": 94,
   "metadata": {
    "id": "o03uUaBcwVdd"
   },
   "outputs": [],
   "source": [
    "from sklearn.model_selection import train_test_split"
   ]
  },
  {
   "cell_type": "code",
   "execution_count": 95,
   "metadata": {
    "id": "DlfGH3s7wXLv"
   },
   "outputs": [],
   "source": [
    "# Use the train_test_split function to split arrays of X and y into training and testing variables\n",
    "X_train, X_test, y_train, y_test = train_test_split(X, y, train_size=0.80)"
   ]
  },
  {
   "cell_type": "code",
   "execution_count": 96,
   "metadata": {
    "colab": {
     "base_uri": "https://localhost:8080/"
    },
    "id": "PwefdEpGwYeV",
    "outputId": "3b39894e-ba0a-418e-82ba-05fabee114ee"
   },
   "outputs": [
    {
     "name": "stdout",
     "output_type": "stream",
     "text": [
      "Size of X_train: 1280000\n",
      "Size of y_train: 1280000\n",
      "\n",
      "\n",
      "Size of X_test: 320000\n",
      "Size of y_test: 320000\n"
     ]
    }
   ],
   "source": [
    "# Print the size of these new variables\n",
    "print(\"Size of X_train: {}\".format(len(X_train)))\n",
    "print(\"Size of y_train: {}\".format(len(y_train)))\n",
    "print(\"\\n\")\n",
    "print(\"Size of X_test: {}\".format(len(X_test)))\n",
    "print(\"Size of y_test: {}\".format(len(y_test)))"
   ]
  },
  {
   "cell_type": "markdown",
   "metadata": {
    "id": "-mLmXEjRwfWe"
   },
   "source": [
    "## Logistic Regression"
   ]
  },
  {
   "cell_type": "code",
   "execution_count": 97,
   "metadata": {
    "id": "uYsttvFjwZ92"
   },
   "outputs": [],
   "source": [
    "from sklearn.linear_model import LogisticRegression"
   ]
  },
  {
   "cell_type": "code",
   "execution_count": 98,
   "metadata": {
    "id": "gg0plKaewkYN"
   },
   "outputs": [],
   "source": [
    "# Create fit_lr function used to fit a Logistic Regression model on X and y training data\n",
    "def fit_lr(X_train, y_train):\n",
    "  model = LogisticRegression(max_iter=1000)\n",
    "  model.fit(X_train, y_train)\n",
    "  return model"
   ]
  },
  {
   "cell_type": "markdown",
   "metadata": {
    "id": "bWOsORBzwnmZ"
   },
   "source": [
    "#### Positive/Negative Frequency"
   ]
  },
  {
   "cell_type": "code",
   "execution_count": 99,
   "metadata": {
    "id": "rZe7wDkNwld_"
   },
   "outputs": [],
   "source": [
    "freqs = build_freqs(X_train, y_train)"
   ]
  },
  {
   "cell_type": "code",
   "execution_count": 100,
   "metadata": {
    "id": "y8fRwDfUwvo7"
   },
   "outputs": [],
   "source": [
    "X_train_pn = [tweet_to_freq(tweet, freqs) for tweet in X_train]\n",
    "X_test_pn = [tweet_to_freq(tweet, freqs) for tweet in X_test]"
   ]
  },
  {
   "cell_type": "code",
   "execution_count": 101,
   "metadata": {
    "colab": {
     "base_uri": "https://localhost:8080/"
    },
    "id": "wKkjZWD_wxkz",
    "outputId": "401eac0b-187f-496b-dd9b-f272eadd2aee"
   },
   "outputs": [
    {
     "name": "stdout",
     "output_type": "stream",
     "text": [
      "[[ 2.47964225e-05 -1.86115736e-05]] [2.90707674e-10]\n"
     ]
    }
   ],
   "source": [
    "# Fit the Logistic Regression model\n",
    "model_lr_pn = fit_lr(X_train_pn, y_train)\n",
    "# Print the model coeffiecients\n",
    "print(model_lr_pn.coef_, model_lr_pn.intercept_)"
   ]
  },
  {
   "cell_type": "markdown",
   "metadata": {
    "id": "Wgq-AiCuwnN-"
   },
   "source": [
    "#### Count Vectorizer(Bag of Words)"
   ]
  },
  {
   "cell_type": "code",
   "execution_count": 102,
   "metadata": {
    "colab": {
     "base_uri": "https://localhost:8080/"
    },
    "id": "PppH6Tguw-nM",
    "outputId": "c4cf81e8-301c-440c-895d-f26df951b0e8"
   },
   "outputs": [
    {
     "name": "stderr",
     "output_type": "stream",
     "text": [
      "C:\\Users\\admin\\.conda\\envs\\MachineLearning\\lib\\site-packages\\sklearn\\feature_extraction\\text.py:489: UserWarning: The parameter 'token_pattern' will not be used since 'tokenizer' is not None'\n",
      "  warnings.warn(\"The parameter 'token_pattern' will not be used\"\n"
     ]
    }
   ],
   "source": [
    "cv = fit_cv(X_train)\n",
    "X_train_cv = cv.transform(X_train)\n",
    "X_test_cv = cv.transform(X_test)"
   ]
  },
  {
   "cell_type": "code",
   "execution_count": 103,
   "metadata": {
    "id": "1OzmQLoNw_4x"
   },
   "outputs": [],
   "source": [
    "# Fit the Logistic Regression Model \n",
    "model_lr_cv = fit_lr(X_train_cv, y_train)"
   ]
  },
  {
   "cell_type": "markdown",
   "metadata": {
    "id": "6uheqe7RxCbL"
   },
   "source": [
    "#### TF-IDF Vector"
   ]
  },
  {
   "cell_type": "code",
   "execution_count": 104,
   "metadata": {
    "colab": {
     "base_uri": "https://localhost:8080/"
    },
    "id": "KKyU0BAbxBIL",
    "outputId": "4605f6f4-311d-4b7f-ab89-15bb2b3888c4"
   },
   "outputs": [
    {
     "name": "stderr",
     "output_type": "stream",
     "text": [
      "C:\\Users\\admin\\.conda\\envs\\MachineLearning\\lib\\site-packages\\sklearn\\feature_extraction\\text.py:489: UserWarning: The parameter 'token_pattern' will not be used since 'tokenizer' is not None'\n",
      "  warnings.warn(\"The parameter 'token_pattern' will not be used\"\n"
     ]
    }
   ],
   "source": [
    "tf = fit_tfidf(X_train)\n",
    "X_train_tf = tf.transform(X_train)\n",
    "X_test_tf = tf.transform(X_test)"
   ]
  },
  {
   "cell_type": "code",
   "execution_count": 105,
   "metadata": {
    "id": "sSvD_otixKUI"
   },
   "outputs": [],
   "source": [
    "model_lr_tf = fit_lr(X_train_tf, y_train)"
   ]
  },
  {
   "cell_type": "code",
   "execution_count": null,
   "metadata": {
    "id": "Wh69sQ4txLpD"
   },
   "outputs": [],
   "source": []
  },
  {
   "cell_type": "markdown",
   "metadata": {
    "id": "cApwM--vxMzz"
   },
   "source": [
    "## Performance Metrics"
   ]
  },
  {
   "cell_type": "code",
   "execution_count": 106,
   "metadata": {
    "id": "LgJ3VvwmxR90"
   },
   "outputs": [],
   "source": [
    "from sklearn.metrics import accuracy_score\n",
    "from sklearn.metrics import confusion_matrix"
   ]
  },
  {
   "cell_type": "markdown",
   "metadata": {
    "id": "0wrV2QACxVaO"
   },
   "source": [
    "### Positive/Negative Frequency"
   ]
  },
  {
   "cell_type": "code",
   "execution_count": 107,
   "metadata": {
    "id": "T3fb8javxTSW"
   },
   "outputs": [],
   "source": [
    "y_pred_lr_pn = model_lr_pn.predict(X_test_pn)"
   ]
  },
  {
   "cell_type": "code",
   "execution_count": 108,
   "metadata": {
    "colab": {
     "base_uri": "https://localhost:8080/"
    },
    "id": "uHbFg9a1xa-r",
    "outputId": "414fafa5-1ed2-47d0-f412-b1401380bfb7"
   },
   "outputs": [
    {
     "name": "stdout",
     "output_type": "stream",
     "text": [
      "LR Model Accuracy: 69.35%\n"
     ]
    }
   ],
   "source": [
    "# Print the model accuracy by comparing predictions and real sentiments\n",
    "print(\"LR Model Accuracy: {:.2%}\".format(accuracy_score(y_test, y_pred_lr_pn)))"
   ]
  },
  {
   "cell_type": "code",
   "execution_count": 109,
   "metadata": {
    "colab": {
     "base_uri": "https://localhost:8080/",
     "height": 366
    },
    "id": "8f0JgKa1xcIb",
    "outputId": "afcee2e0-c56b-47a7-9092-f109e80cd28e"
   },
   "outputs": [
    {
     "data": {
      "text/plain": [
       "<module 'seaborn' from 'C:\\\\Users\\\\admin\\\\.conda\\\\envs\\\\MachineLearning\\\\lib\\\\site-packages\\\\seaborn\\\\__init__.py'>"
      ]
     },
     "execution_count": 109,
     "metadata": {},
     "output_type": "execute_result"
    },
    {
     "data": {
      "image/png": "[encoded data removed]",
      "text/plain": [
       "<Figure size 360x360 with 2 Axes>"
      ]
     },
     "metadata": {
      "needs_background": "light"
     },
     "output_type": "display_data"
    }
   ],
   "source": [
    "#Plot the confusion matrix using the plot_confusion fuction\n",
    "plot_confusion(confusion_matrix(y_test, y_pred_lr_pn))"
   ]
  },
  {
   "cell_type": "markdown",
   "metadata": {
    "id": "jBdaZXyjxer1"
   },
   "source": [
    "### Count Vector(Bag of Words)"
   ]
  },
  {
   "cell_type": "code",
   "execution_count": 110,
   "metadata": {
    "id": "hsF05HbTxdlu"
   },
   "outputs": [],
   "source": [
    "y_pred_lr_cv = model_lr_cv.predict(X_test_cv)"
   ]
  },
  {
   "cell_type": "code",
   "execution_count": 111,
   "metadata": {
    "colab": {
     "base_uri": "https://localhost:8080/"
    },
    "id": "4zgeOS-8xkVi",
    "outputId": "77984241-262b-4a81-ba92-11aaa2da5ec8"
   },
   "outputs": [
    {
     "name": "stdout",
     "output_type": "stream",
     "text": [
      "LR Model Accuracy: 78.07%\n"
     ]
    }
   ],
   "source": [
    "# Print the model accuracy by comparing predictions and real sentiments\n",
    "print(\"LR Model Accuracy: {:.2%}\".format(accuracy_score(y_test, y_pred_lr_cv)))"
   ]
  },
  {
   "cell_type": "code",
   "execution_count": 112,
   "metadata": {
    "colab": {
     "base_uri": "https://localhost:8080/",
     "height": 366
    },
    "id": "Hadu6NUjxld1",
    "outputId": "b6a2528b-81b4-43d1-b790-77b9c9647bd7"
   },
   "outputs": [
    {
     "data": {
      "text/plain": [
       "<module 'seaborn' from 'C:\\\\Users\\\\admin\\\\.conda\\\\envs\\\\MachineLearning\\\\lib\\\\site-packages\\\\seaborn\\\\__init__.py'>"
      ]
     },
     "execution_count": 112,
     "metadata": {},
     "output_type": "execute_result"
    },
    {
     "data": {
      "image/png": "[encoded data removed]",
      "text/plain": [
       "<Figure size 360x360 with 2 Axes>"
      ]
     },
     "metadata": {
      "needs_background": "light"
     },
     "output_type": "display_data"
    }
   ],
   "source": [
    "#Plot the confusion matrix using the plot_confusion fuction\n",
    "plot_confusion(confusion_matrix(y_test, y_pred_lr_cv))"
   ]
  },
  {
   "cell_type": "markdown",
   "metadata": {
    "id": "ouKy3LGYxpKi"
   },
   "source": [
    "### TF-IDF Vector"
   ]
  },
  {
   "cell_type": "code",
   "execution_count": 113,
   "metadata": {
    "id": "U2N3gwYrxmzn"
   },
   "outputs": [],
   "source": [
    "y_pred_lr_tf = model_lr_tf.predict(X_test_tf)"
   ]
  },
  {
   "cell_type": "code",
   "execution_count": 114,
   "metadata": {
    "colab": {
     "base_uri": "https://localhost:8080/"
    },
    "id": "OLVJTounxtWu",
    "outputId": "5ec67f2b-9ba8-4f15-825a-3068276c8c56"
   },
   "outputs": [
    {
     "name": "stdout",
     "output_type": "stream",
     "text": [
      "LR Model Accuracy: 78.24%\n"
     ]
    }
   ],
   "source": [
    "# Print the model accuracy by comparing predictions and real sentiments\n",
    "print(\"LR Model Accuracy: {:.2%}\".format(accuracy_score(y_test, y_pred_lr_tf)))"
   ]
  },
  {
   "cell_type": "code",
   "execution_count": 115,
   "metadata": {
    "colab": {
     "base_uri": "https://localhost:8080/",
     "height": 366
    },
    "id": "Y2-a66vIxuex",
    "outputId": "b3a3a266-bb37-4fdb-d38c-3b0dfe98c242"
   },
   "outputs": [
    {
     "data": {
      "text/plain": [
       "<module 'seaborn' from 'C:\\\\Users\\\\admin\\\\.conda\\\\envs\\\\MachineLearning\\\\lib\\\\site-packages\\\\seaborn\\\\__init__.py'>"
      ]
     },
     "execution_count": 115,
     "metadata": {},
     "output_type": "execute_result"
    },
    {
     "data": {
      "image/png": "[encoded data removed]",
      "text/plain": [
       "<Figure size 360x360 with 2 Axes>"
      ]
     },
     "metadata": {
      "needs_background": "light"
     },
     "output_type": "display_data"
    }
   ],
   "source": [
    "#Plot the confusion matrix using the plot_confusion fuction\n",
    "plot_confusion(confusion_matrix(y_test, y_pred_lr_tf))"
   ]
  },
  {
   "cell_type": "markdown",
   "metadata": {
    "id": "mmo8FKaBxxJA"
   },
   "source": [
    "## Mini Pipeline"
   ]
  },
  {
   "cell_type": "code",
   "execution_count": 116,
   "metadata": {
    "id": "2kyVDt3Ux1Ic"
   },
   "outputs": [],
   "source": [
    "#Create a predict_tweet function used to pre-process,transform and predict tweet sentiment\n",
    "def predict_tweet(tweet):\n",
    "  processed_tweet = process_tweet(tweet)\n",
    "  transformed_tweet = tf.transform([processed_tweet])\n",
    "  prediction = model_lr_tf.predict(transformed_tweet)\n",
    "\n",
    "  if prediction == 1:\n",
    "    return \"Prediction is positive sentiment\"\n",
    "  else:\n",
    "    return \"Prediction is negative sentiment\""
   ]
  },
  {
   "cell_type": "code",
   "execution_count": 117,
   "metadata": {
    "colab": {
     "base_uri": "https://localhost:8080/"
    },
    "id": "8xD7cy1byg_s",
    "outputId": "b5c57f4c-b523-4c61-aa6d-78ac0ff228e0"
   },
   "outputs": [
    {
     "name": "stdout",
     "output_type": "stream",
     "text": [
      "Enter Tweet for Sentiment check: Hello how are you>\n"
     ]
    }
   ],
   "source": [
    "your_tweet = input(\"Enter Tweet for Sentiment check: \")"
   ]
  },
  {
   "cell_type": "code",
   "execution_count": 118,
   "metadata": {
    "colab": {
     "base_uri": "https://localhost:8080/",
     "height": 35
    },
    "id": "x3_VeT1qx2Ni",
    "outputId": "9c3ea742-0a30-40db-916f-fae9dfca5ea2"
   },
   "outputs": [
    {
     "data": {
      "text/plain": [
       "'Prediction is positive sentiment'"
      ]
     },
     "execution_count": 118,
     "metadata": {},
     "output_type": "execute_result"
    }
   ],
   "source": [
    "predict_tweet(your_tweet)"
   ]
  },
  {
   "cell_type": "markdown",
   "metadata": {
    "id": "C7zUG2l6yW_I"
   },
   "source": [
    "#                               Thank You!"
   ]
  },
  {
   "cell_type": "code",
   "execution_count": null,
   "metadata": {
    "id": "Z3hF9GAOx4BP"
   },
   "outputs": [],
   "source": []
  },
  {
   "cell_type": "code",
   "execution_count": null,
   "metadata": {},
   "outputs": [],
   "source": []
  },
  {
   "cell_type": "code",
   "execution_count": null,
   "metadata": {},
   "outputs": [],
   "source": []
  },
  {
   "cell_type": "code",
   "execution_count": null,
   "metadata": {},
   "outputs": [],
   "source": []
  },
  {
   "cell_type": "code",
   "execution_count": null,
   "metadata": {},
   "outputs": [],
   "source": []
  },
  {
   "cell_type": "code",
   "execution_count": null,
   "metadata": {},
   "outputs": [],
   "source": []
  },
  {
   "cell_type": "code",
   "execution_count": null,
   "metadata": {},
   "outputs": [],
   "source": []
  },
  {
   "cell_type": "code",
   "execution_count": null,
   "metadata": {},
   "outputs": [],
   "source": []
  },
  {
   "cell_type": "code",
   "execution_count": null,
   "metadata": {},
   "outputs": [],
   "source": []
  }
 ],
 "metadata": {
  "colab": {
   "name": "TwitterSentimentAnalysisProject.ipynb",
   "provenance": [],
   "toc_visible": true
  },
  "kernelspec": {
   "display_name": "Python 3",
   "language": "python",
   "name": "python3"
  },
  "language_info": {
   "codemirror_mode": {
    "name": "ipython",
    "version": 3
   },
   "file_extension": ".py",
   "mimetype": "text/x-python",
   "name": "python",
   "nbconvert_exporter": "python",
   "pygments_lexer": "ipython3",
   "version": "3.8.5"
  }
 },
 "nbformat": 4,
 "nbformat_minor": 1
}
